{
 "cells": [
  {
   "cell_type": "markdown",
   "metadata": {},
   "source": [
    "# Exercise-6"
   ]
  },
  {
   "cell_type": "code",
   "execution_count": 93,
   "metadata": {},
   "outputs": [],
   "source": [
    "// // TEST CASES\n",
    "// console.log(digitPerkalianMinimum(24)); // 2\n",
    "// console.log(digitPerkalianMinimum(90)); // 3\n",
    "// console.log(digitPerkalianMinimum(20)); // 2\n",
    "// console.log(digitPerkalianMinimum(179)); // 4\n",
    "// console.log(digitPerkalianMinimum(1)); // 2"
   ]
  },
  {
   "cell_type": "code",
   "execution_count": 110,
   "metadata": {},
   "outputs": [],
   "source": [
    "function digitPerkalianMinimum(angka) {\n",
    "    var factor = []\n",
    "    for(let i=0; i<=angka; i++){\n",
    "        if(angka%i==0){\n",
    "            factor.push(i)\n",
    "        }\n",
    "    }\n",
    "    var result = ''\n",
    "    for(let i=0; i<factor.length/2; i++){\n",
    "        result = String(factor[i])+String(factor[factor.length-(1+i)])\n",
    "    }\n",
    "    return result.length\n",
    "}"
   ]
  },
  {
   "cell_type": "code",
   "execution_count": 103,
   "metadata": {},
   "outputs": [],
   "source": [
    "var angka = 24"
   ]
  },
  {
   "cell_type": "code",
   "execution_count": 104,
   "metadata": {},
   "outputs": [
    {
     "data": {
      "text/plain": [
       "8"
      ]
     },
     "execution_count": 104,
     "metadata": {},
     "output_type": "execute_result"
    }
   ],
   "source": [
    "var factor = []\n",
    "for(let i=0; i<=angka; i++){\n",
    "    if(angka%i==0){\n",
    "        factor.push(i)\n",
    "    }\n",
    "}"
   ]
  },
  {
   "cell_type": "code",
   "execution_count": 105,
   "metadata": {},
   "outputs": [
    {
     "data": {
      "text/plain": [
       "[ 1, 2, 3, 4, 6, 8, 12, 24 ]"
      ]
     },
     "execution_count": 105,
     "metadata": {},
     "output_type": "execute_result"
    }
   ],
   "source": [
    "factor"
   ]
  },
  {
   "cell_type": "code",
   "execution_count": 108,
   "metadata": {},
   "outputs": [
    {
     "data": {
      "text/plain": [
       "'46'"
      ]
     },
     "execution_count": 108,
     "metadata": {},
     "output_type": "execute_result"
    }
   ],
   "source": [
    "var result = ''\n",
    "for(let i=0; i<factor.length/2; i++){\n",
    "    result = String(factor[i])+String(factor[factor.length-(1+i)])\n",
    "}"
   ]
  },
  {
   "cell_type": "code",
   "execution_count": 109,
   "metadata": {},
   "outputs": [
    {
     "data": {
      "text/plain": [
       "2"
      ]
     },
     "execution_count": 109,
     "metadata": {},
     "output_type": "execute_result"
    }
   ],
   "source": [
    "result.length"
   ]
  },
  {
   "cell_type": "code",
   "execution_count": 111,
   "metadata": {},
   "outputs": [
    {
     "name": "stdout",
     "output_type": "stream",
     "text": [
      "2\n",
      "3\n",
      "2\n",
      "4\n",
      "2\n"
     ]
    }
   ],
   "source": [
    "console.log(digitPerkalianMinimum(24)); // 2\n",
    "console.log(digitPerkalianMinimum(90)); // 3\n",
    "console.log(digitPerkalianMinimum(20)); // 2\n",
    "console.log(digitPerkalianMinimum(179)); // 4\n",
    "console.log(digitPerkalianMinimum(1)); // 2"
   ]
  },
  {
   "cell_type": "markdown",
   "metadata": {},
   "source": [
    "___________"
   ]
  },
  {
   "cell_type": "markdown",
   "metadata": {},
   "source": [
    "# Exercise-7"
   ]
  },
  {
   "cell_type": "code",
   "execution_count": 92,
   "metadata": {},
   "outputs": [],
   "source": [
    "// // TEST CASES\n",
    "// console.log(urutkanAbjad('hello')); // 'ehllo'\n",
    "// console.log(urutkanAbjad('truncate')); // 'acenrttu'\n",
    "// console.log(urutkanAbjad('developer')); // 'deeeloprv'\n",
    "// console.log(urutkanAbjad('software')); // 'aeforstw'\n",
    "// console.log(urutkanAbjad('aegis')); // 'aegis'"
   ]
  },
  {
   "cell_type": "code",
   "execution_count": 41,
   "metadata": {},
   "outputs": [],
   "source": [
    "function urutkanAbjad(str) {\n",
    "    var char = 'a b c d e f g h i j k l m n o p q r s t u v w x y z'\n",
    "    var char_arr = []\n",
    "    var temp = ''\n",
    "    for(let i=0; i<char.length; i++){\n",
    "        if(char[i]==' '){\n",
    "            char_arr.push(temp)\n",
    "            temp = ''\n",
    "        }else{\n",
    "            temp += char[i]\n",
    "        }\n",
    "    }\n",
    "    char_arr.push(temp)\n",
    "    var str_arr = []\n",
    "    for(let i=0; i<str.length; i++){\n",
    "        str_arr.push(str[i])\n",
    "    }\n",
    "    var index = []\n",
    "    for(let i=0; i<str.length; i++){\n",
    "        for(let j=0; j<char_arr.length; j++){\n",
    "            if(str[i]==char_arr[j]){\n",
    "                index.push(j)\n",
    "                break\n",
    "            }\n",
    "        }\n",
    "    }\n",
    "    for(let i=0; i<index.length; i++){\n",
    "        for(let j=0; j<index.length-1; j++){\n",
    "            if(index[j]>index[j+1]){\n",
    "                var temp = index[j]\n",
    "                index[j] = index[j+1]\n",
    "                index[j+1] = temp\n",
    "\n",
    "                var temp1 = str_arr[j]\n",
    "                str_arr[j] = str_arr[j+1]\n",
    "                str_arr[j+1] = temp1\n",
    "\n",
    "            }\n",
    "        }\n",
    "    }\n",
    "    var result = ''\n",
    "    for(let i=0; i<str_arr.length; i++){\n",
    "        result += str_arr[i]\n",
    "    }\n",
    "    return result\n",
    "}"
   ]
  },
  {
   "cell_type": "code",
   "execution_count": 31,
   "metadata": {},
   "outputs": [],
   "source": [
    "var str = 'hello'"
   ]
  },
  {
   "cell_type": "code",
   "execution_count": 32,
   "metadata": {},
   "outputs": [],
   "source": [
    "var char = 'a b c d e f g h i j k l m n o p q r s t u v w x y z'"
   ]
  },
  {
   "cell_type": "code",
   "execution_count": 33,
   "metadata": {},
   "outputs": [
    {
     "data": {
      "text/plain": [
       "26"
      ]
     },
     "execution_count": 33,
     "metadata": {},
     "output_type": "execute_result"
    }
   ],
   "source": [
    "var char_arr = []\n",
    "var temp = ''\n",
    "for(let i=0; i<char.length; i++){\n",
    "    if(char[i]==' '){\n",
    "        char_arr.push(temp)\n",
    "        temp = ''\n",
    "    }else{\n",
    "        temp += char[i]\n",
    "    }\n",
    "}\n",
    "char_arr.push(temp)"
   ]
  },
  {
   "cell_type": "code",
   "execution_count": 36,
   "metadata": {},
   "outputs": [
    {
     "data": {
      "text/plain": [
       "5"
      ]
     },
     "execution_count": 36,
     "metadata": {},
     "output_type": "execute_result"
    }
   ],
   "source": [
    "var str_arr = []\n",
    "for(let i=0; i<str.length; i++){\n",
    "    str_arr.push(str[i])\n",
    "}"
   ]
  },
  {
   "cell_type": "code",
   "execution_count": 34,
   "metadata": {},
   "outputs": [
    {
     "data": {
      "text/plain": [
       "5"
      ]
     },
     "execution_count": 34,
     "metadata": {},
     "output_type": "execute_result"
    }
   ],
   "source": [
    "var index = []\n",
    "for(let i=0; i<str.length; i++){\n",
    "    for(let j=0; j<char_arr.length; j++){\n",
    "        if(str[i]==char_arr[j]){\n",
    "            index.push(j)\n",
    "            break\n",
    "        }\n",
    "    }\n",
    "}"
   ]
  },
  {
   "cell_type": "code",
   "execution_count": 35,
   "metadata": {},
   "outputs": [
    {
     "data": {
      "text/plain": [
       "[ 7, 4, 11, 11, 14 ]"
      ]
     },
     "execution_count": 35,
     "metadata": {},
     "output_type": "execute_result"
    }
   ],
   "source": [
    "index"
   ]
  },
  {
   "cell_type": "code",
   "execution_count": 37,
   "metadata": {},
   "outputs": [],
   "source": [
    "for(let i=0; i<index.length; i++){\n",
    "    for(let j=0; j<index.length-1; j++){\n",
    "        if(index[j]>index[j+1]){\n",
    "            var temp = index[j]\n",
    "            index[j] = index[j+1]\n",
    "            index[j+1] = temp\n",
    "            \n",
    "            var temp1 = str_arr[j]\n",
    "            str_arr[j] = str_arr[j+1]\n",
    "            str_arr[j+1] = temp1\n",
    "            \n",
    "        }\n",
    "    }\n",
    "}"
   ]
  },
  {
   "cell_type": "code",
   "execution_count": 39,
   "metadata": {},
   "outputs": [
    {
     "data": {
      "text/plain": [
       "'ehllo'"
      ]
     },
     "execution_count": 39,
     "metadata": {},
     "output_type": "execute_result"
    }
   ],
   "source": [
    "var result = ''\n",
    "for(let i=0; i<str_arr.length; i++){\n",
    "    result += str_arr[i]\n",
    "}"
   ]
  },
  {
   "cell_type": "code",
   "execution_count": 40,
   "metadata": {},
   "outputs": [
    {
     "data": {
      "text/plain": [
       "'ehllo'"
      ]
     },
     "execution_count": 40,
     "metadata": {},
     "output_type": "execute_result"
    }
   ],
   "source": [
    "result"
   ]
  },
  {
   "cell_type": "code",
   "execution_count": 42,
   "metadata": {},
   "outputs": [
    {
     "name": "stdout",
     "output_type": "stream",
     "text": [
      "ehllo\n",
      "acenrttu\n",
      "deeeloprv\n",
      "aeforstw\n",
      "aegis\n"
     ]
    }
   ],
   "source": [
    "console.log(urutkanAbjad('hello')); // 'ehllo'\n",
    "console.log(urutkanAbjad('truncate')); // 'acenrttu'\n",
    "console.log(urutkanAbjad('developer')); // 'deeeloprv'\n",
    "console.log(urutkanAbjad('software')); // 'aeforstw'\n",
    "console.log(urutkanAbjad('aegis')); // 'aegis'"
   ]
  },
  {
   "cell_type": "markdown",
   "metadata": {},
   "source": [
    "____________"
   ]
  },
  {
   "cell_type": "markdown",
   "metadata": {},
   "source": [
    "# Exercise-8"
   ]
  },
  {
   "cell_type": "code",
   "execution_count": 48,
   "metadata": {},
   "outputs": [],
   "source": [
    "// // TEST CASES\n",
    "// console.log(tukarBesarKecil('Hello World')); // \"hELLO wORLD\"\n",
    "// console.log(tukarBesarKecil('I aM aLAY')); // \"i Am Alay\"\n",
    "// console.log(tukarBesarKecil('My Name is Bond!!')); // \"mY nAME IS bOND!!\"\n",
    "// console.log(tukarBesarKecil('IT sHOULD bE me')); // \"it Should Be ME\"\n",
    "// console.log(tukarBesarKecil('001-A-3-5TrdYW')); // \"001-a-3-5tRDyw\""
   ]
  },
  {
   "cell_type": "code",
   "execution_count": 63,
   "metadata": {},
   "outputs": [],
   "source": [
    "function tukarBesarKecil(kalimat) {\n",
    "    var result = ''\n",
    "    for(let i=0; i<kalimat.length; i++){\n",
    "        if(kalimat[i]==kalimat[i].toUpperCase()){\n",
    "            result += kalimat[i].toLowerCase()\n",
    "        }else if(kalimat[i]==kalimat[i].toLowerCase()){\n",
    "            result += kalimat[i].toUpperCase()\n",
    "        }\n",
    "    }\n",
    "    return result\n",
    "}"
   ]
  },
  {
   "cell_type": "code",
   "execution_count": 55,
   "metadata": {},
   "outputs": [],
   "source": [
    "var kalimat = 'My Name is Bond!!'"
   ]
  },
  {
   "cell_type": "code",
   "execution_count": 54,
   "metadata": {},
   "outputs": [
    {
     "data": {
      "text/plain": [
       "true"
      ]
     },
     "execution_count": 54,
     "metadata": {},
     "output_type": "execute_result"
    }
   ],
   "source": [
    "kalimat[kalimat.length-1] == kalimat[kalimat.length-1].toUpperCase()"
   ]
  },
  {
   "cell_type": "code",
   "execution_count": 57,
   "metadata": {},
   "outputs": [
    {
     "data": {
      "text/plain": [
       "'e'"
      ]
     },
     "execution_count": 57,
     "metadata": {},
     "output_type": "execute_result"
    }
   ],
   "source": [
    "kalimat[6]"
   ]
  },
  {
   "cell_type": "code",
   "execution_count": 62,
   "metadata": {},
   "outputs": [
    {
     "data": {
      "text/plain": [
       "'mY nAME IS bOND!!'"
      ]
     },
     "execution_count": 62,
     "metadata": {},
     "output_type": "execute_result"
    }
   ],
   "source": [
    "var result = ''\n",
    "for(let i=0; i<kalimat.length; i++){\n",
    "    if(kalimat[i]==kalimat[i].toUpperCase()){\n",
    "        result += kalimat[i].toLowerCase()\n",
    "    }else if(kalimat[i]==kalimat[i].toLowerCase()){\n",
    "        result += kalimat[i].toUpperCase()\n",
    "    }\n",
    "}"
   ]
  },
  {
   "cell_type": "code",
   "execution_count": null,
   "metadata": {},
   "outputs": [],
   "source": []
  },
  {
   "cell_type": "code",
   "execution_count": 60,
   "metadata": {},
   "outputs": [
    {
     "data": {
      "text/plain": [
       "0"
      ]
     },
     "execution_count": 60,
     "metadata": {},
     "output_type": "execute_result"
    }
   ],
   "source": [
    "i=0"
   ]
  },
  {
   "cell_type": "code",
   "execution_count": 64,
   "metadata": {},
   "outputs": [
    {
     "name": "stdout",
     "output_type": "stream",
     "text": [
      "hELLO wORLD\n",
      "i Am Alay\n",
      "mY nAME IS bOND!!\n",
      "it Should Be ME\n",
      "001-a-3-5tRDyw\n"
     ]
    }
   ],
   "source": [
    "console.log(tukarBesarKecil('Hello World')); // \"hELLO wORLD\"\n",
    "console.log(tukarBesarKecil('I aM aLAY')); // \"i Am Alay\"\n",
    "console.log(tukarBesarKecil('My Name is Bond!!')); // \"mY nAME IS bOND!!\"\n",
    "console.log(tukarBesarKecil('IT sHOULD bE me')); // \"it Should Be ME\"\n",
    "console.log(tukarBesarKecil('001-A-3-5TrdYW')); // \"001-a-3-5tRDyw\""
   ]
  },
  {
   "cell_type": "markdown",
   "metadata": {},
   "source": [
    "________________"
   ]
  },
  {
   "cell_type": "markdown",
   "metadata": {},
   "source": [
    "# Exercise-9"
   ]
  },
  {
   "cell_type": "code",
   "execution_count": 65,
   "metadata": {},
   "outputs": [],
   "source": [
    "// // TEST CASES\n",
    "// console.log(checkAB('lane borrowed')); // true\n",
    "// console.log(checkAB('i am sick')); // false\n",
    "// console.log(checkAB('you are boring')); // true\n",
    "// console.log(checkAB('barbarian')); // true\n",
    "// console.log(checkAB('bacon and meat')); // false"
   ]
  },
  {
   "cell_type": "code",
   "execution_count": 90,
   "metadata": {},
   "outputs": [],
   "source": [
    "function abs(num){\n",
    "    if(num<0){\n",
    "        return num*-1\n",
    "    }\n",
    "    return num\n",
    "}\n",
    "\n",
    "function checkAB(num) {\n",
    "    var num_arr = []\n",
    "    for(let i=0; i<num.length; i++){\n",
    "        num_arr.push(num[i])\n",
    "    }\n",
    "    var index = {a:[],b:[]}\n",
    "    for(let i=0; i<num_arr.length; i++){\n",
    "        if(num_arr[i]=='a'){\n",
    "            index['a'].push(i)\n",
    "        }else if(num_arr[i]=='b'){\n",
    "            index['b'].push(i)\n",
    "        }\n",
    "    }\n",
    "    for(let i=0; i<index.a.length; i++){\n",
    "        for(var j=0; j<index.b.length; j++){\n",
    "            if(abs(index.a[i]-index.b[j])==4){\n",
    "                return true\n",
    "            }\n",
    "        }\n",
    "    }\n",
    "    return false\n",
    "}"
   ]
  },
  {
   "cell_type": "code",
   "execution_count": 68,
   "metadata": {},
   "outputs": [],
   "source": [
    "var num = 'lbane borrowed'"
   ]
  },
  {
   "cell_type": "code",
   "execution_count": 69,
   "metadata": {},
   "outputs": [
    {
     "data": {
      "text/plain": [
       "14"
      ]
     },
     "execution_count": 69,
     "metadata": {},
     "output_type": "execute_result"
    }
   ],
   "source": [
    "var num_arr = []\n",
    "for(let i=0; i<num.length; i++){\n",
    "    num_arr.push(num[i])\n",
    "}"
   ]
  },
  {
   "cell_type": "code",
   "execution_count": 70,
   "metadata": {},
   "outputs": [
    {
     "data": {
      "text/plain": [
       "[ 'l', 'b', 'a', 'n', 'e', ' ', 'b', 'o', 'r', 'r', 'o', 'w', 'e', 'd' ]"
      ]
     },
     "execution_count": 70,
     "metadata": {},
     "output_type": "execute_result"
    }
   ],
   "source": [
    "num_arr"
   ]
  },
  {
   "cell_type": "code",
   "execution_count": 73,
   "metadata": {},
   "outputs": [],
   "source": [
    "var index = {a:[],b:[]}\n",
    "for(let i=0; i<num_arr.length; i++){\n",
    "    if(num_arr[i]=='a'){\n",
    "        index['a'].push(i)\n",
    "    }else if(num_arr[i]=='b'){\n",
    "        index['b'].push(i)\n",
    "    }\n",
    "}"
   ]
  },
  {
   "cell_type": "code",
   "execution_count": 86,
   "metadata": {},
   "outputs": [
    {
     "name": "stdout",
     "output_type": "stream",
     "text": [
      "2 '<<< a'\n",
      "1 '<<< b'\n",
      "6 '<<< b'\n"
     ]
    }
   ],
   "source": [
    "var result = false\n",
    "for(let i=0; i<index.a.length; i++){\n",
    "    console.log(index.a[i], \"<<< a\")\n",
    "    for(var j=0; j<index.b.length; j++){\n",
    "        console.log(index.b[j], \"<<< b\")\n",
    "        if(abs(index.a[i]-index.b[j])==4){\n",
    "            result = true\n",
    "            break\n",
    "        }\n",
    "    }\n",
    "    if(abs(index.a[i]-index.b[j])==3){\n",
    "        result = true\n",
    "        break\n",
    "    }\n",
    "}"
   ]
  },
  {
   "cell_type": "code",
   "execution_count": 87,
   "metadata": {},
   "outputs": [
    {
     "data": {
      "text/plain": [
       "true"
      ]
     },
     "execution_count": 87,
     "metadata": {},
     "output_type": "execute_result"
    }
   ],
   "source": [
    "result"
   ]
  },
  {
   "cell_type": "code",
   "execution_count": 91,
   "metadata": {},
   "outputs": [
    {
     "name": "stdout",
     "output_type": "stream",
     "text": [
      "true\n",
      "false\n",
      "true\n",
      "true\n",
      "false\n"
     ]
    }
   ],
   "source": [
    "console.log(checkAB('lane borrowed')); // true\n",
    "console.log(checkAB('i am sick')); // false\n",
    "console.log(checkAB('you are boring')); // true\n",
    "console.log(checkAB('barbarian')); // true\n",
    "console.log(checkAB('bacon and meat')); // false"
   ]
  },
  {
   "cell_type": "markdown",
   "metadata": {},
   "source": [
    "_____________"
   ]
  },
  {
   "cell_type": "code",
   "execution_count": null,
   "metadata": {},
   "outputs": [],
   "source": []
  }
 ],
 "metadata": {
  "kernelspec": {
   "display_name": "Javascript (Node.js)",
   "language": "javascript",
   "name": "javascript"
  },
  "language_info": {
   "file_extension": ".js",
   "mimetype": "application/javascript",
   "name": "javascript",
   "version": "8.10.0"
  }
 },
 "nbformat": 4,
 "nbformat_minor": 2
}
