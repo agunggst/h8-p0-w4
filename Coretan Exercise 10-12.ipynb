{
 "cells": [
  {
   "cell_type": "markdown",
   "metadata": {},
   "source": [
    "# Exercise-10"
   ]
  },
  {
   "cell_type": "code",
   "execution_count": 21,
   "metadata": {},
   "outputs": [],
   "source": [
    "// // TEST CASES\n",
    "// changeMe([['Christ', 'Evans', 'Male', 1982], ['Robert', 'Downey', 'Male']]); \n",
    "// // 1. Christ Evans:\n",
    "// // { firstName: 'Christ',\n",
    "// //   lastName: 'Evans',\n",
    "// //   gender: 'Male',\n",
    "// //   age: 37 }\n",
    "// // 2. Robert Downey:\n",
    "// // { firstName: 'Robert',\n",
    "// //   lastName: 'Downey',\n",
    "// //   gender: 'Male',\n",
    "// //   age: 'Invalid Birth Year' }\n",
    "// changeMe([]); // \"\""
   ]
  },
  {
   "cell_type": "code",
   "execution_count": 78,
   "metadata": {},
   "outputs": [],
   "source": [
    "function changeMe(arr) {\n",
    "    if(arr.length==0){\n",
    "        return \"\"\n",
    "    }\n",
    "    var key = ['firstName', 'lastName', 'gender', 'age']\n",
    "    var arr_obj = []\n",
    "    for(let i=0; i<arr.length; i++){\n",
    "        var obj = {}\n",
    "        for(let j=0; j<key.length; j++){\n",
    "            if(j==3 && arr[i][j]==undefined){\n",
    "                obj[key[j]] = \"Invalid Birth Year\"\n",
    "            }else{\n",
    "                obj[key[j]]=arr[i][j]\n",
    "            }\n",
    "        }\n",
    "        arr_obj.push(obj)\n",
    "    }\n",
    "    for(let i=0; i<arr_obj.length; i++){\n",
    "        console.log(`${i+1}. ${arr_obj[i].firstName} ${arr_obj[i].lastName}:`)\n",
    "        console.log(arr_obj[i])\n",
    "    }\n",
    "    return 0\n",
    "}"
   ]
  },
  {
   "cell_type": "code",
   "execution_count": 10,
   "metadata": {},
   "outputs": [],
   "source": [
    "var arr = [['Christ', 'Evans', 'Male', 1982], ['Robert', 'Downey', 'Male']]"
   ]
  },
  {
   "cell_type": "code",
   "execution_count": 11,
   "metadata": {},
   "outputs": [
    {
     "data": {
      "text/plain": [
       "[ 'Christ', 'Evans', 'Male', 1982 ]"
      ]
     },
     "execution_count": 11,
     "metadata": {},
     "output_type": "execute_result"
    }
   ],
   "source": [
    "arr[0]"
   ]
  },
  {
   "cell_type": "code",
   "execution_count": 12,
   "metadata": {},
   "outputs": [],
   "source": [
    "var key = ['firstName', 'lastName', 'gender', 'age']"
   ]
  },
  {
   "cell_type": "code",
   "execution_count": 13,
   "metadata": {},
   "outputs": [
    {
     "data": {
      "text/plain": [
       "2"
      ]
     },
     "execution_count": 13,
     "metadata": {},
     "output_type": "execute_result"
    }
   ],
   "source": [
    "var arr_obj = []\n",
    "for(let i=0; i<arr.length; i++){\n",
    "    var obj = {}\n",
    "    for(let j=0; j<key.length; j++){\n",
    "        if(j==3 && arr[i][j]==undefined){\n",
    "            obj[key[j]] = \"Invalid Birth Year\"\n",
    "        }else{\n",
    "            obj[key[j]]=arr[i][j]\n",
    "        }\n",
    "    }\n",
    "    arr_obj.push(obj)\n",
    "}"
   ]
  },
  {
   "cell_type": "code",
   "execution_count": 75,
   "metadata": {},
   "outputs": [
    {
     "name": "stdout",
     "output_type": "stream",
     "text": [
      "1. Christ Evans:\n",
      "{ firstName: 'Christ',\n",
      "  lastName: 'Evans',\n",
      "  gender: 'Male',\n",
      "  age: 1982 }\n"
     ]
    }
   ],
   "source": [
    "console.log(`1. ${arr_obj[0].firstName} ${arr_obj[0].lastName}:`)\n",
    "console.log(arr_obj[0])"
   ]
  },
  {
   "cell_type": "code",
   "execution_count": null,
   "metadata": {},
   "outputs": [],
   "source": []
  },
  {
   "cell_type": "code",
   "execution_count": 20,
   "metadata": {},
   "outputs": [
    {
     "name": "stdout",
     "output_type": "stream",
     "text": [
      "2. Robert Downey \n",
      " [object Object] \n",
      "\n"
     ]
    }
   ],
   "source": [
    "console.log(result)"
   ]
  },
  {
   "cell_type": "code",
   "execution_count": 18,
   "metadata": {},
   "outputs": [],
   "source": [
    "var test = \"asd \\n d\""
   ]
  },
  {
   "cell_type": "code",
   "execution_count": 19,
   "metadata": {},
   "outputs": [
    {
     "name": "stdout",
     "output_type": "stream",
     "text": [
      "asd \n",
      " d\n"
     ]
    }
   ],
   "source": [
    "console.log(test)"
   ]
  },
  {
   "cell_type": "code",
   "execution_count": 79,
   "metadata": {},
   "outputs": [
    {
     "name": "stdout",
     "output_type": "stream",
     "text": [
      "1. Christ Evans:\n",
      "{ firstName: 'Christ',\n",
      "  lastName: 'Evans',\n",
      "  gender: 'Male',\n",
      "  age: 1982 }\n",
      "2. Robert Downey:\n",
      "{ firstName: 'Robert',\n",
      "  lastName: 'Downey',\n",
      "  gender: 'Male',\n",
      "  age: 'Invalid Birth Year' }\n"
     ]
    },
    {
     "data": {
      "text/plain": [
       "''"
      ]
     },
     "execution_count": 79,
     "metadata": {},
     "output_type": "execute_result"
    }
   ],
   "source": [
    "changeMe([['Christ', 'Evans', 'Male', 1982], ['Robert', 'Downey', 'Male']]); \n",
    "// 1. Christ Evans:\n",
    "// { firstName: 'Christ',\n",
    "//   lastName: 'Evans',\n",
    "//   gender: 'Male',\n",
    "//   age: 37 }\n",
    "// 2. Robert Downey:\n",
    "// { firstName: 'Robert',\n",
    "//   lastName: 'Downey',\n",
    "//   gender: 'Male',\n",
    "//   age: 'Invalid Birth Year' }\n",
    "changeMe([]); // \"\""
   ]
  },
  {
   "cell_type": "code",
   "execution_count": 24,
   "metadata": {},
   "outputs": [
    {
     "data": {
      "text/plain": [
       "[ { firstName: 'Christ',\n",
       "    lastName: 'Evans',\n",
       "    gender: 'Male',\n",
       "    age: 1982 },\n",
       "  { firstName: 'Robert',\n",
       "    lastName: 'Downey',\n",
       "    gender: 'Male',\n",
       "    age: 'Invalid Birth Year' } ]"
      ]
     },
     "execution_count": 24,
     "metadata": {},
     "output_type": "execute_result"
    }
   ],
   "source": [
    "changeMe([['Christ', 'Evans', 'Male', 1982], ['Robert', 'Downey', 'Male']]); "
   ]
  },
  {
   "cell_type": "code",
   "execution_count": 26,
   "metadata": {},
   "outputs": [
    {
     "data": {
      "text/plain": [
       "''"
      ]
     },
     "execution_count": 26,
     "metadata": {},
     "output_type": "execute_result"
    }
   ],
   "source": [
    "changeMe([]);"
   ]
  },
  {
   "cell_type": "markdown",
   "metadata": {},
   "source": [
    "___________________"
   ]
  },
  {
   "cell_type": "markdown",
   "metadata": {},
   "source": [
    "# Exercise-11"
   ]
  },
  {
   "cell_type": "code",
   "execution_count": 33,
   "metadata": {},
   "outputs": [],
   "source": [
    "// // TEST CASES\n",
    "// console.log(shoppingTime('1820RzKrnWn08', 2475000));\n",
    "//   //{ memberId: '1820RzKrnWn08',\n",
    "//   // money: 2475000,\n",
    "//   // listPurchased:\n",
    "//   //  [ 'Sepatu Stacattu',\n",
    "//   //    'Baju Zoro',\n",
    "//   //    'Baju H&N',\n",
    "//   //    'Sweater Uniklooh',\n",
    "//   //    'Casing Handphone' ],\n",
    "//   // changeMoney: 0 }\n",
    "// console.log(shoppingTime('82Ku8Ma742', 170000));\n",
    "// //{ memberId: '82Ku8Ma742',\n",
    "// // money: 170000,\n",
    "// // listPurchased:\n",
    "// //  [ 'Casing Handphone' ],\n",
    "// // changeMoney: 120000 }\n",
    "// console.log(shoppingTime('', 2475000)); //Mohon maaf, toko X hanya berlaku untuk member saja\n",
    "// console.log(shoppingTime('234JdhweRxa53', 15000)); //Mohon maaf, uang tidak cukup\n",
    "// console.log(shoppingTime()); ////Mohon maaf, toko X hanya berlaku untuk member saja"
   ]
  },
  {
   "cell_type": "code",
   "execution_count": 65,
   "metadata": {},
   "outputs": [],
   "source": [
    "function shoppingTime(memberId, money) {\n",
    "    if(!memberId){\n",
    "        return 'Mohon maaf, toko X hanya berlaku untuk member saja'\n",
    "    }else if(money<50000){\n",
    "        return 'Mohon maaf, uang tidak cukup'\n",
    "    }\n",
    "    var sale = {}\n",
    "    sale['Sepatu Stacattu'] = 1500000\n",
    "    sale['Baju Zoro'] = 500000\n",
    "    sale['Baju H&N'] = 250000\n",
    "    sale['Sweater Uniklooh'] = 175000\n",
    "    sale['Casing Handphone'] = 50000\n",
    "    \n",
    "    var obj = {}\n",
    "    obj['memberId'] = memberId\n",
    "    obj['money'] = money\n",
    "    \n",
    "    var key = Object.keys(sale)\n",
    "    \n",
    "    var i=0\n",
    "    var listPurchased = []\n",
    "    while(i<key.length && money>15000){\n",
    "        if(money>=sale[key[i]]){\n",
    "            money -= sale[key[i]]\n",
    "            listPurchased.push(key[i])\n",
    "        }\n",
    "        i++\n",
    "    }\n",
    "    obj['listPurchased'] = listPurchased\n",
    "    obj['changeMoney'] = money\n",
    "    \n",
    "    return obj\n",
    "}"
   ]
  },
  {
   "cell_type": "code",
   "execution_count": 35,
   "metadata": {},
   "outputs": [],
   "source": [
    "var memberId = '1820RzKrnWn08'\n",
    "var money = 2475000"
   ]
  },
  {
   "cell_type": "code",
   "execution_count": 36,
   "metadata": {},
   "outputs": [
    {
     "data": {
      "text/plain": [
       "2475000"
      ]
     },
     "execution_count": 36,
     "metadata": {},
     "output_type": "execute_result"
    }
   ],
   "source": [
    "var obj = {}\n",
    "obj['memberId'] = memberId\n",
    "obj['money'] = money"
   ]
  },
  {
   "cell_type": "code",
   "execution_count": 37,
   "metadata": {},
   "outputs": [
    {
     "data": {
      "text/plain": [
       "{ memberId: '1820RzKrnWn08', money: 2475000 }"
      ]
     },
     "execution_count": 37,
     "metadata": {},
     "output_type": "execute_result"
    }
   ],
   "source": [
    "obj"
   ]
  },
  {
   "cell_type": "code",
   "execution_count": 47,
   "metadata": {},
   "outputs": [
    {
     "data": {
      "text/plain": [
       "50000"
      ]
     },
     "execution_count": 47,
     "metadata": {},
     "output_type": "execute_result"
    }
   ],
   "source": [
    "var sale = {}\n",
    "sale['Sepatu Stacattu'] = 1500000\n",
    "sale['Baju Zoro'] = 500000\n",
    "sale['Baju H&N'] = 250000\n",
    "sale['Sweater Uniklooh'] = 175000\n",
    "sale['Casing Handphone'] = 50000"
   ]
  },
  {
   "cell_type": "code",
   "execution_count": 55,
   "metadata": {},
   "outputs": [],
   "source": [
    "var key = Object.keys(sale)"
   ]
  },
  {
   "cell_type": "code",
   "execution_count": 56,
   "metadata": {},
   "outputs": [
    {
     "data": {
      "text/plain": [
       "[ 'Sepatu Stacattu',\n",
       "  'Baju Zoro',\n",
       "  'Baju H&N',\n",
       "  'Sweater Uniklooh',\n",
       "  'Casing Handphone' ]"
      ]
     },
     "execution_count": 56,
     "metadata": {},
     "output_type": "execute_result"
    }
   ],
   "source": [
    "key"
   ]
  },
  {
   "cell_type": "code",
   "execution_count": 58,
   "metadata": {},
   "outputs": [
    {
     "data": {
      "text/plain": [
       "4"
      ]
     },
     "execution_count": 58,
     "metadata": {},
     "output_type": "execute_result"
    }
   ],
   "source": [
    "var i=0\n",
    "var listPurchased = []\n",
    "while(i<key.length && money>15000){\n",
    "    if(money>=sale[key[i]]){\n",
    "        money -= sale[key[i]]\n",
    "        listPurchased.push(key[i])\n",
    "    }\n",
    "    i++\n",
    "}"
   ]
  },
  {
   "cell_type": "code",
   "execution_count": 59,
   "metadata": {},
   "outputs": [
    {
     "data": {
      "text/plain": [
       "[ 'Sepatu Stacattu',\n",
       "  'Baju Zoro',\n",
       "  'Baju H&N',\n",
       "  'Sweater Uniklooh',\n",
       "  'Casing Handphone' ]"
      ]
     },
     "execution_count": 59,
     "metadata": {},
     "output_type": "execute_result"
    }
   ],
   "source": [
    "listPurchased"
   ]
  },
  {
   "cell_type": "code",
   "execution_count": 60,
   "metadata": {},
   "outputs": [
    {
     "data": {
      "text/plain": [
       "0"
      ]
     },
     "execution_count": 60,
     "metadata": {},
     "output_type": "execute_result"
    }
   ],
   "source": [
    "money"
   ]
  },
  {
   "cell_type": "code",
   "execution_count": 61,
   "metadata": {},
   "outputs": [
    {
     "data": {
      "text/plain": [
       "0"
      ]
     },
     "execution_count": 61,
     "metadata": {},
     "output_type": "execute_result"
    }
   ],
   "source": [
    "obj['listPurchased'] = listPurchased\n",
    "obj['changeMoney'] = money"
   ]
  },
  {
   "cell_type": "code",
   "execution_count": 62,
   "metadata": {},
   "outputs": [
    {
     "data": {
      "text/plain": [
       "{ memberId: '1820RzKrnWn08',\n",
       "  money: 2475000,\n",
       "  listPurchased: \n",
       "   [ 'Sepatu Stacattu',\n",
       "     'Baju Zoro',\n",
       "     'Baju H&N',\n",
       "     'Sweater Uniklooh',\n",
       "     'Casing Handphone' ],\n",
       "  changeMoney: 0 }"
      ]
     },
     "execution_count": 62,
     "metadata": {},
     "output_type": "execute_result"
    }
   ],
   "source": [
    "obj"
   ]
  },
  {
   "cell_type": "code",
   "execution_count": 66,
   "metadata": {},
   "outputs": [
    {
     "name": "stdout",
     "output_type": "stream",
     "text": [
      "{ memberId: '1820RzKrnWn08',\n",
      "  money: 2475000,\n",
      "  listPurchased: \n",
      "   [ 'Sepatu Stacattu',\n",
      "     'Baju Zoro',\n",
      "     'Baju H&N',\n",
      "     'Sweater Uniklooh',\n",
      "     'Casing Handphone' ],\n",
      "  changeMoney: 0 }\n",
      "{ memberId: '82Ku8Ma742',\n",
      "  money: 170000,\n",
      "  listPurchased: [ 'Casing Handphone' ],\n",
      "  changeMoney: 120000 }\n",
      "Mohon maaf, toko X hanya berlaku untuk member saja\n",
      "Mohon maaf, uang tidak cukup\n",
      "Mohon maaf, toko X hanya berlaku untuk member saja\n"
     ]
    }
   ],
   "source": [
    "// TEST CASES\n",
    "console.log(shoppingTime('1820RzKrnWn08', 2475000));\n",
    "  //{ memberId: '1820RzKrnWn08',\n",
    "  // money: 2475000,\n",
    "  // listPurchased:\n",
    "  //  [ 'Sepatu Stacattu',\n",
    "  //    'Baju Zoro',\n",
    "  //    'Baju H&N',\n",
    "  //    'Sweater Uniklooh',\n",
    "  //    'Casing Handphone' ],\n",
    "  // changeMoney: 0 }\n",
    "console.log(shoppingTime('82Ku8Ma742', 170000));\n",
    "//{ memberId: '82Ku8Ma742',\n",
    "// money: 170000,\n",
    "// listPurchased:\n",
    "//  [ 'Casing Handphone' ],\n",
    "// changeMoney: 120000 }\n",
    "console.log(shoppingTime('', 2475000)); //Mohon maaf, toko X hanya berlaku untuk member saja\n",
    "console.log(shoppingTime('234JdhweRxa53', 15000)); //Mohon maaf, uang tidak cukup\n",
    "console.log(shoppingTime()); ////Mohon maaf, toko X hanya berlaku untuk member saja"
   ]
  },
  {
   "cell_type": "markdown",
   "metadata": {},
   "source": [
    "____________"
   ]
  },
  {
   "cell_type": "markdown",
   "metadata": {},
   "source": [
    "# Exercise-12"
   ]
  },
  {
   "cell_type": "code",
   "execution_count": 67,
   "metadata": {},
   "outputs": [],
   "source": [
    "// // TEST CASES\n",
    "// console.log(countProfit([{name: 'Windi', product: 'Sepatu Stacattu', amount: 2}, {name: 'Vanessa', product: 'Sepatu Stacattu', amount: 3}, {name: 'Rani', product: 'Sweater Uniklooh', amount: 2}]));\n",
    "// //[ { product: 'Sepatu Stacattu',\n",
    "// //   shoppers: [ 'Windi', 'Vanessa' ],\n",
    "// //   leftOver: 5,\n",
    "// //   totalProfit: 7500000 },\n",
    "// // { product: 'Baju Zoro',\n",
    "// //   shoppers: [],\n",
    "// //   leftOver: 2,\n",
    "// //   totalProfit: 0 },\n",
    "// // { product: 'Sweater Uniklooh',\n",
    "// //   shoppers: [],\n",
    "// //   leftOver: 1,\n",
    "// //   totalProfit: 0 } ]\n",
    "\n",
    "// console.log(countProfit([{name: 'Windi', product: 'Sepatu Stacattu', amount: 8}, {name: 'Vanessa', product: 'Sepatu Stacattu', amount: 10}, {name: 'Rani', product: 'Sweater Uniklooh', amount: 1}, {name: 'Devi', product: 'Baju Zoro', amount: 1}, {name: 'Lisa', product: 'Baju Zoro', amount: 1}]));\n",
    "// // [ { product: 'Sepatu Stacattu',\n",
    "// //     shoppers: [ 'Windi' ],\n",
    "// //     leftOver: 2,\n",
    "// //     totalProfit: 12000000 },\n",
    "// //   { product: 'Baju Zoro',\n",
    "// //     shoppers: [ 'Devi', 'Lisa' ],\n",
    "// //     leftOver: 0,\n",
    "// //     totalProfit: 1000000 },\n",
    "// //   { product: 'Sweater Uniklooh',\n",
    "// //     shoppers: [ 'Rani' ],\n",
    "// //     leftOver: 0,\n",
    "// //     totalProfit: 175000 } ]\n",
    "// console.log(countProfit([{name: 'Windi', product: 'Sepatu Naiki', amount: 5}]));\n",
    "// // [ { product: 'Sepatu Stacattu',\n",
    "// //     shoppers: [],\n",
    "// //     leftOver: 10,\n",
    "// //     totalProfit: 0 },\n",
    "// //   { product: 'Baju Zoro',\n",
    "// //     shoppers: [],\n",
    "// //     leftOver: 2,\n",
    "// //     totalProfit: 0 },\n",
    "// //   { product: 'Sweater Uniklooh',\n",
    "// //     shoppers: [],\n",
    "// //     leftOver: 1,\n",
    "// //     totalProfit: 0 } ]\n",
    "// console.log(countProfit([])); //[]"
   ]
  },
  {
   "cell_type": "code",
   "execution_count": 110,
   "metadata": {},
   "outputs": [],
   "source": [
    "function countProfit(shoppers) {\n",
    "    let listBarang = [['Sepatu Stacattu', 1500000, 10],\n",
    "                     ['Baju Zoro', 500000, 2],\n",
    "                     ['Sweater Uniklooh', 175000, 1]];\n",
    "    if(!shoppers || shoppers.length == 0){return []}\n",
    "    var result = [{},{},{}]\n",
    "    for(let i=0; i<result.length; i++){\n",
    "        result[i]['product'] = listBarang[i][0]\n",
    "        result[i]['shoppers'] = []\n",
    "        result[i]['leftOver'] = listBarang[i][2]\n",
    "        result[i]['totalProfit'] = 0\n",
    "    }\n",
    "    for(let i=0; i<result.length; i++){\n",
    "        for(let j=0; j<shoppers.length; j++){\n",
    "            if( (shoppers[j].product == result[i].product) && (result[i].leftOver >= shoppers[j].amount) ){\n",
    "                result[i].shoppers.push(shoppers[j].name)\n",
    "                result[i].leftOver -= shoppers[j].amount\n",
    "                result[i].totalProfit += listBarang[i][1]*shoppers[j].amount\n",
    "            }\n",
    "        }\n",
    "    }\n",
    "    return result\n",
    "}"
   ]
  },
  {
   "cell_type": "code",
   "execution_count": 90,
   "metadata": {},
   "outputs": [],
   "source": [
    "var listBarang = [['Sepatu Stacattu', 1500000, 10],\n",
    "                     ['Baju Zoro', 500000, 2],\n",
    "                     ['Sweater Uniklooh', 175000, 1]]"
   ]
  },
  {
   "cell_type": "code",
   "execution_count": 91,
   "metadata": {},
   "outputs": [],
   "source": [
    "var shoppers = [{name: 'Windi', product: 'Sepatu Stacattu', amount: 2}, \n",
    "                {name: 'Vanessa', product: 'Sepatu Stacattu', amount: 3}, \n",
    "                {name: 'Rani', product: 'Sweater Uniklooh', amount: 2}]"
   ]
  },
  {
   "cell_type": "code",
   "execution_count": 92,
   "metadata": {},
   "outputs": [
    {
     "data": {
      "text/plain": [
       "{ name: 'Windi', product: 'Sepatu Stacattu', amount: 2 }"
      ]
     },
     "execution_count": 92,
     "metadata": {},
     "output_type": "execute_result"
    }
   ],
   "source": [
    "shoppers[0]"
   ]
  },
  {
   "cell_type": "code",
   "execution_count": 93,
   "metadata": {},
   "outputs": [
    {
     "data": {
      "text/plain": [
       "0"
      ]
     },
     "execution_count": 93,
     "metadata": {},
     "output_type": "execute_result"
    }
   ],
   "source": [
    "var result = [{},{},{}]\n",
    "for(let i=0; i<result.length; i++){\n",
    "    result[i]['product'] = listBarang[i][0]\n",
    "    result[i]['shoppers'] = []\n",
    "    result[i]['leftOver'] = listBarang[i][2]\n",
    "    result[i]['totalProfit'] = 0\n",
    "}"
   ]
  },
  {
   "cell_type": "code",
   "execution_count": 94,
   "metadata": {},
   "outputs": [
    {
     "data": {
      "text/plain": [
       "[ { product: 'Sepatu Stacattu',\n",
       "    shoppers: [],\n",
       "    leftOver: 10,\n",
       "    totalProfit: 0 },\n",
       "  { product: 'Baju Zoro',\n",
       "    shoppers: [],\n",
       "    leftOver: 2,\n",
       "    totalProfit: 0 },\n",
       "  { product: 'Sweater Uniklooh',\n",
       "    shoppers: [],\n",
       "    leftOver: 1,\n",
       "    totalProfit: 0 } ]"
      ]
     },
     "execution_count": 94,
     "metadata": {},
     "output_type": "execute_result"
    }
   ],
   "source": [
    "result"
   ]
  },
  {
   "cell_type": "code",
   "execution_count": 95,
   "metadata": {},
   "outputs": [],
   "source": [
    "for(let i=0; i<result.length; i++){\n",
    "    for(let j=0; j<shoppers.length; j++){\n",
    "        if( (shoppers[j].product == result[i].product) && (result[i].leftOver >= shoppers[j].amount) ){\n",
    "            result[i].shoppers.push(shoppers[j].name)\n",
    "            result[i].leftOver -= shoppers[j].amount\n",
    "            result[i].totalProfit += listBarang[i][1]\n",
    "        }\n",
    "    }\n",
    "}"
   ]
  },
  {
   "cell_type": "code",
   "execution_count": 96,
   "metadata": {},
   "outputs": [
    {
     "data": {
      "text/plain": [
       "[ { product: 'Sepatu Stacattu',\n",
       "    shoppers: [ 'Windi', 'Vanessa' ],\n",
       "    leftOver: 5,\n",
       "    totalProfit: 3000000 },\n",
       "  { product: 'Baju Zoro',\n",
       "    shoppers: [],\n",
       "    leftOver: 2,\n",
       "    totalProfit: 0 },\n",
       "  { product: 'Sweater Uniklooh',\n",
       "    shoppers: [],\n",
       "    leftOver: 1,\n",
       "    totalProfit: 0 } ]"
      ]
     },
     "execution_count": 96,
     "metadata": {},
     "output_type": "execute_result"
    }
   ],
   "source": [
    "result"
   ]
  },
  {
   "cell_type": "code",
   "execution_count": 114,
   "metadata": {},
   "outputs": [
    {
     "name": "stdout",
     "output_type": "stream",
     "text": [
      "[ { product: 'Sepatu Stacattu',\n",
      "    shoppers: [ 'Windi', 'Vanessa' ],\n",
      "    leftOver: 5,\n",
      "    totalProfit: 7500000 },\n",
      "  { product: 'Baju Zoro',\n",
      "    shoppers: [],\n",
      "    leftOver: 2,\n",
      "    totalProfit: 0 },\n",
      "  { product: 'Sweater Uniklooh',\n",
      "    shoppers: [],\n",
      "    leftOver: 1,\n",
      "    totalProfit: 0 } ]\n"
     ]
    }
   ],
   "source": [
    "// TEST CASES\n",
    "console.log(countProfit([{name: 'Windi', product: 'Sepatu Stacattu', amount: 2}, {name: 'Vanessa', product: 'Sepatu Stacattu', amount: 3}, {name: 'Rani', product: 'Sweater Uniklooh', amount: 2}]));\n",
    "//[ { product: 'Sepatu Stacattu',\n",
    "//   shoppers: [ 'Windi', 'Vanessa' ],\n",
    "//   leftOver: 5,\n",
    "//   totalProfit: 7500000 },\n",
    "// { product: 'Baju Zoro',\n",
    "//   shoppers: [],\n",
    "//   leftOver: 2,\n",
    "//   totalProfit: 0 },\n",
    "// { product: 'Sweater Uniklooh',\n",
    "//   shoppers: [],\n",
    "//   leftOver: 1,\n",
    "//   totalProfit: 0 } ]"
   ]
  },
  {
   "cell_type": "code",
   "execution_count": 113,
   "metadata": {},
   "outputs": [
    {
     "name": "stdout",
     "output_type": "stream",
     "text": [
      "[ { product: 'Sepatu Stacattu',\n",
      "    shoppers: [ 'Windi' ],\n",
      "    leftOver: 2,\n",
      "    totalProfit: 12000000 },\n",
      "  { product: 'Baju Zoro',\n",
      "    shoppers: [ 'Devi', 'Lisa' ],\n",
      "    leftOver: 0,\n",
      "    totalProfit: 1000000 },\n",
      "  { product: 'Sweater Uniklooh',\n",
      "    shoppers: [ 'Rani' ],\n",
      "    leftOver: 0,\n",
      "    totalProfit: 175000 } ]\n"
     ]
    }
   ],
   "source": [
    "console.log(countProfit([{name: 'Windi', product: 'Sepatu Stacattu', amount: 8}, {name: 'Vanessa', product: 'Sepatu Stacattu', amount: 10}, {name: 'Rani', product: 'Sweater Uniklooh', amount: 1}, {name: 'Devi', product: 'Baju Zoro', amount: 1}, {name: 'Lisa', product: 'Baju Zoro', amount: 1}]));\n",
    "// [ { product: 'Sepatu Stacattu',\n",
    "//     shoppers: [ 'Windi' ],\n",
    "//     leftOver: 2,\n",
    "//     totalProfit: 12000000 },\n",
    "//   { product: 'Baju Zoro',\n",
    "//     shoppers: [ 'Devi', 'Lisa' ],\n",
    "//     leftOver: 0,\n",
    "//     totalProfit: 1000000 },\n",
    "//   { product: 'Sweater Uniklooh',\n",
    "//     shoppers: [ 'Rani' ],\n",
    "//     leftOver: 0,\n",
    "//     totalProfit: 175000 } ]"
   ]
  },
  {
   "cell_type": "code",
   "execution_count": 112,
   "metadata": {},
   "outputs": [
    {
     "name": "stdout",
     "output_type": "stream",
     "text": [
      "[ { product: 'Sepatu Stacattu',\n",
      "    shoppers: [],\n",
      "    leftOver: 10,\n",
      "    totalProfit: 0 },\n",
      "  { product: 'Baju Zoro',\n",
      "    shoppers: [],\n",
      "    leftOver: 2,\n",
      "    totalProfit: 0 },\n",
      "  { product: 'Sweater Uniklooh',\n",
      "    shoppers: [],\n",
      "    leftOver: 1,\n",
      "    totalProfit: 0 } ]\n"
     ]
    }
   ],
   "source": [
    "console.log(countProfit([{name: 'Windi', product: 'Sepatu Naiki', amount: 5}]));\n",
    "// [ { product: 'Sepatu Stacattu',\n",
    "//     shoppers: [],\n",
    "//     leftOver: 10,\n",
    "//     totalProfit: 0 },\n",
    "//   { product: 'Baju Zoro',\n",
    "//     shoppers: [],\n",
    "//     leftOver: 2,\n",
    "//     totalProfit: 0 },\n",
    "//   { product: 'Sweater Uniklooh',\n",
    "//     shoppers: [],\n",
    "//     leftOver: 1,\n",
    "//     totalProfit: 0 } ]"
   ]
  },
  {
   "cell_type": "code",
   "execution_count": 111,
   "metadata": {},
   "outputs": [
    {
     "name": "stdout",
     "output_type": "stream",
     "text": [
      "[]\n"
     ]
    }
   ],
   "source": [
    "console.log(countProfit([])); //[]"
   ]
  },
  {
   "cell_type": "code",
   "execution_count": 109,
   "metadata": {},
   "outputs": [
    {
     "data": {
      "text/plain": [
       "false"
      ]
     },
     "execution_count": 109,
     "metadata": {},
     "output_type": "execute_result"
    }
   ],
   "source": [
    "![]"
   ]
  },
  {
   "cell_type": "code",
   "execution_count": null,
   "metadata": {},
   "outputs": [],
   "source": []
  }
 ],
 "metadata": {
  "kernelspec": {
   "display_name": "Javascript (Node.js)",
   "language": "javascript",
   "name": "javascript"
  },
  "language_info": {
   "file_extension": ".js",
   "mimetype": "application/javascript",
   "name": "javascript",
   "version": "8.10.0"
  }
 },
 "nbformat": 4,
 "nbformat_minor": 2
}
