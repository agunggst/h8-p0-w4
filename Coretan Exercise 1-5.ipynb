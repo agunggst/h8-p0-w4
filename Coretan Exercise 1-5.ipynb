{
 "cells": [
  {
   "cell_type": "markdown",
   "metadata": {},
   "source": [
    "# Exercise-1"
   ]
  },
  {
   "cell_type": "code",
   "execution_count": 36,
   "metadata": {},
   "outputs": [],
   "source": [
    "// // TEST CASES\n",
    "// console.log(angkaPrima(3)); // true\n",
    "// console.log(angkaPrima(7)); // true\n",
    "// console.log(angkaPrima(6)); // false\n",
    "// console.log(angkaPrima(23)); // true\n",
    "// console.log(angkaPrima(33)); // false"
   ]
  },
  {
   "cell_type": "code",
   "execution_count": 34,
   "metadata": {},
   "outputs": [],
   "source": [
    "function angkaPrima(angka) {\n",
    "    if(angka<2){return false}\n",
    "    var state = true\n",
    "    for(let i=1; i<angka; i++){\n",
    "        if(i!==1 && i!==angka){\n",
    "            if(angka%i==0){\n",
    "                state = false\n",
    "            }\n",
    "        }\n",
    "    }\n",
    "    return state\n",
    "}"
   ]
  },
  {
   "cell_type": "code",
   "execution_count": 24,
   "metadata": {},
   "outputs": [],
   "source": [
    "var angka = 6"
   ]
  },
  {
   "cell_type": "code",
   "execution_count": 32,
   "metadata": {},
   "outputs": [
    {
     "data": {
      "text/plain": [
       "false"
      ]
     },
     "execution_count": 32,
     "metadata": {},
     "output_type": "execute_result"
    }
   ],
   "source": [
    "i=1\n",
    "if(i!==1 || i!==angka){\n",
    "    if(angka%i==0){\n",
    "        state = false\n",
    "    }\n",
    "}"
   ]
  },
  {
   "cell_type": "code",
   "execution_count": 33,
   "metadata": {},
   "outputs": [
    {
     "data": {
      "text/plain": [
       "true"
      ]
     },
     "execution_count": 33,
     "metadata": {},
     "output_type": "execute_result"
    }
   ],
   "source": [
    "i!==1 || i!==angka"
   ]
  },
  {
   "cell_type": "code",
   "execution_count": 11,
   "metadata": {},
   "outputs": [],
   "source": [
    "for(let i=0; i<angka; i++){\n",
    "    var state = true\n",
    "    if(i!==1 || i!==angka){\n",
    "        if(angka%i==0){\n",
    "            state = false\n",
    "        }\n",
    "    }\n",
    "}"
   ]
  },
  {
   "cell_type": "code",
   "execution_count": 19,
   "metadata": {},
   "outputs": [],
   "source": [
    "var i=0"
   ]
  },
  {
   "cell_type": "code",
   "execution_count": 12,
   "metadata": {},
   "outputs": [
    {
     "data": {
      "text/plain": [
       "true"
      ]
     },
     "execution_count": 12,
     "metadata": {},
     "output_type": "execute_result"
    }
   ],
   "source": [
    "state"
   ]
  },
  {
   "cell_type": "code",
   "execution_count": 35,
   "metadata": {},
   "outputs": [
    {
     "name": "stdout",
     "output_type": "stream",
     "text": [
      "true\n",
      "true\n",
      "false\n",
      "true\n",
      "false\n"
     ]
    }
   ],
   "source": [
    "// TEST CASES\n",
    "console.log(angkaPrima(3)); // true\n",
    "console.log(angkaPrima(7)); // true\n",
    "console.log(angkaPrima(6)); // false\n",
    "console.log(angkaPrima(23)); // true\n",
    "console.log(angkaPrima(33)); // false"
   ]
  },
  {
   "cell_type": "markdown",
   "metadata": {},
   "source": [
    "_____________"
   ]
  },
  {
   "cell_type": "markdown",
   "metadata": {},
   "source": [
    "# Exercise-2"
   ]
  },
  {
   "cell_type": "code",
   "execution_count": 37,
   "metadata": {},
   "outputs": [],
   "source": [
    "// // TEST CASES\n",
    "// console.log(fpb(12, 16)); // 4\n",
    "// console.log(fpb(50, 40)); // 10\n",
    "// console.log(fpb(22, 99)); // 11\n",
    "// console.log(fpb(24, 36)); // 12\n",
    "// console.log(fpb(17, 23)); // 1"
   ]
  },
  {
   "cell_type": "code",
   "execution_count": 47,
   "metadata": {},
   "outputs": [],
   "source": [
    "function fpb(angka1, angka2) {\n",
    "    var factor = {}\n",
    "    var factor1 = []\n",
    "    for(let i=0; i<angka1; i++){\n",
    "        if(angka1%i==0){\n",
    "            factor1.push(i)\n",
    "        }\n",
    "    }\n",
    "    var factor2 = []\n",
    "    for(let i=0; i<angka2; i++){\n",
    "        if(angka2%i==0){\n",
    "            factor2.push(i)\n",
    "        }\n",
    "    }\n",
    "    factor['angka1'] = factor1\n",
    "    factor['angka2'] = factor2\n",
    "    \n",
    "    for(let i=0; i<factor['angka1'].length; i++){\n",
    "        for(let j=0; j<factor['angka2'].length; j++){\n",
    "            if(factor['angka1'][i]==factor['angka2'][j]){\n",
    "                var result = factor['angka1'][i]\n",
    "            }\n",
    "        }\n",
    "    }\n",
    "    return result\n",
    "}"
   ]
  },
  {
   "cell_type": "code",
   "execution_count": 38,
   "metadata": {},
   "outputs": [],
   "source": [
    "var angka1 = 12\n",
    "var angka2 = 16"
   ]
  },
  {
   "cell_type": "code",
   "execution_count": 39,
   "metadata": {},
   "outputs": [],
   "source": [
    "var factor = {}"
   ]
  },
  {
   "cell_type": "code",
   "execution_count": 41,
   "metadata": {},
   "outputs": [],
   "source": [
    "var factor1 = []\n",
    "for(let i=0; i<angka1; i++){\n",
    "    if(angka1%i==0){\n",
    "        factor1.push(i)\n",
    "    }\n",
    "}"
   ]
  },
  {
   "cell_type": "code",
   "execution_count": 42,
   "metadata": {},
   "outputs": [
    {
     "data": {
      "text/plain": [
       "[ 1, 2, 3, 4, 6 ]"
      ]
     },
     "execution_count": 42,
     "metadata": {},
     "output_type": "execute_result"
    }
   ],
   "source": [
    "factor1"
   ]
  },
  {
   "cell_type": "code",
   "execution_count": 43,
   "metadata": {},
   "outputs": [],
   "source": [
    "var factor2 = []\n",
    "for(let i=0; i<angka2; i++){\n",
    "    if(angka2%i==0){\n",
    "        factor2.push(i)\n",
    "    }\n",
    "}"
   ]
  },
  {
   "cell_type": "code",
   "execution_count": 44,
   "metadata": {},
   "outputs": [
    {
     "data": {
      "text/plain": [
       "[ 1, 2, 4, 8 ]"
      ]
     },
     "execution_count": 44,
     "metadata": {},
     "output_type": "execute_result"
    }
   ],
   "source": [
    "factor2"
   ]
  },
  {
   "cell_type": "code",
   "execution_count": 45,
   "metadata": {},
   "outputs": [
    {
     "data": {
      "text/plain": [
       "[ 1, 2, 4, 8 ]"
      ]
     },
     "execution_count": 45,
     "metadata": {},
     "output_type": "execute_result"
    }
   ],
   "source": [
    "factor['angka1'] = factor1\n",
    "factor['angka2'] = factor2"
   ]
  },
  {
   "cell_type": "code",
   "execution_count": 46,
   "metadata": {},
   "outputs": [
    {
     "data": {
      "text/plain": [
       "{ angka1: [ 1, 2, 3, 4, 6 ], angka2: [ 1, 2, 4, 8 ] }"
      ]
     },
     "execution_count": 46,
     "metadata": {},
     "output_type": "execute_result"
    }
   ],
   "source": [
    "factor"
   ]
  },
  {
   "cell_type": "code",
   "execution_count": 48,
   "metadata": {},
   "outputs": [
    {
     "name": "stdout",
     "output_type": "stream",
     "text": [
      "4\n",
      "10\n",
      "11\n",
      "12\n",
      "1\n"
     ]
    }
   ],
   "source": [
    "console.log(fpb(12, 16)); // 4\n",
    "console.log(fpb(50, 40)); // 10\n",
    "console.log(fpb(22, 99)); // 11\n",
    "console.log(fpb(24, 36)); // 12\n",
    "console.log(fpb(17, 23)); // 1"
   ]
  },
  {
   "cell_type": "markdown",
   "metadata": {},
   "source": [
    "____________________"
   ]
  },
  {
   "cell_type": "markdown",
   "metadata": {},
   "source": [
    "# Exercise-3"
   ]
  },
  {
   "cell_type": "code",
   "execution_count": 49,
   "metadata": {},
   "outputs": [],
   "source": [
    "// // TEST CASES\n",
    "// console.log(cariMedian([1, 2, 3, 4, 5])); // 3\n",
    "// console.log(cariMedian([1, 3, 4, 10, 12, 13])); // 7\n",
    "// console.log(cariMedian([3, 4, 7, 6, 10])); // 7\n",
    "// console.log(cariMedian([1, 3, 3])); // 3\n",
    "// console.log(cariMedian([7, 7, 8, 8])); // 7.5"
   ]
  },
  {
   "cell_type": "code",
   "execution_count": 66,
   "metadata": {},
   "outputs": [],
   "source": [
    "function cariMedian(arr) {\n",
    "    if(arr.length%2==0){\n",
    "        return (arr[arr.length/2-1]+arr[arr.length/2])/2\n",
    "    }else if(arr.length%2==1){\n",
    "        return (arr[arr.length/2-0.5])\n",
    "    }\n",
    "}"
   ]
  },
  {
   "cell_type": "code",
   "execution_count": 61,
   "metadata": {},
   "outputs": [],
   "source": [
    "var arr = [1, 3, 4, 10, 12]"
   ]
  },
  {
   "cell_type": "code",
   "execution_count": 63,
   "metadata": {},
   "outputs": [
    {
     "data": {
      "text/plain": [
       "4"
      ]
     },
     "execution_count": 63,
     "metadata": {},
     "output_type": "execute_result"
    }
   ],
   "source": [
    "arr[arr.length/2-0.5]"
   ]
  },
  {
   "cell_type": "code",
   "execution_count": 60,
   "metadata": {},
   "outputs": [
    {
     "data": {
      "text/plain": [
       "7"
      ]
     },
     "execution_count": 60,
     "metadata": {},
     "output_type": "execute_result"
    }
   ],
   "source": [
    "(arr[3-1]+arr[3])/2"
   ]
  },
  {
   "cell_type": "code",
   "execution_count": 64,
   "metadata": {},
   "outputs": [
    {
     "data": {
      "text/plain": [
       "2"
      ]
     },
     "execution_count": 64,
     "metadata": {},
     "output_type": "execute_result"
    }
   ],
   "source": [
    "arr.length/2-0.5"
   ]
  },
  {
   "cell_type": "code",
   "execution_count": 67,
   "metadata": {},
   "outputs": [
    {
     "name": "stdout",
     "output_type": "stream",
     "text": [
      "3\n",
      "7\n",
      "7\n",
      "3\n",
      "7.5\n"
     ]
    }
   ],
   "source": [
    "console.log(cariMedian([1, 2, 3, 4, 5])); // 3\n",
    "console.log(cariMedian([1, 3, 4, 10, 12, 13])); // 7\n",
    "console.log(cariMedian([3, 4, 7, 6, 10])); // 7\n",
    "console.log(cariMedian([1, 3, 3])); // 3\n",
    "console.log(cariMedian([7, 7, 8, 8])); // 7.5"
   ]
  },
  {
   "cell_type": "markdown",
   "metadata": {},
   "source": [
    "____________"
   ]
  },
  {
   "cell_type": "markdown",
   "metadata": {},
   "source": [
    "# Exercise-4"
   ]
  },
  {
   "cell_type": "code",
   "execution_count": 68,
   "metadata": {},
   "outputs": [],
   "source": [
    "// // TEST CASES\n",
    "// console.log(cariModus([10, 4, 5, 2, 4])); // 4\n",
    "// console.log(cariModus([5, 10, 10, 6, 5])); // 5\n",
    "// console.log(cariModus([10, 3, 1, 2, 5])); // -1\n",
    "// console.log(cariModus([1, 2, 3, 3, 4, 5])); // 3\n",
    "// console.log(cariModus([7, 7, 7, 7, 7])); // -1"
   ]
  },
  {
   "cell_type": "code",
   "execution_count": 106,
   "metadata": {},
   "outputs": [],
   "source": [
    "function find_unique(arr){\n",
    "    var result = []\n",
    "    for(let i=0; i<arr.length; i++){\n",
    "        var state = true\n",
    "        for(let j=0; j<result.length; j++){\n",
    "            if(arr[i]==result[j]){\n",
    "                state = false\n",
    "                break\n",
    "            }\n",
    "        }\n",
    "        if(state==true){\n",
    "            result.push(arr[i])\n",
    "        }\n",
    "    }\n",
    "    return result\n",
    "}\n",
    "\n",
    "function cariModus(arr) {\n",
    "    var unique_arr = find_unique(arr)\n",
    "    if(unique_arr.length==1){return -1}\n",
    "    var count = []\n",
    "    for(let i=0; i<unique_arr.length; i++){\n",
    "        var sum = 0\n",
    "        for(let j=0; j<arr.length; j++){\n",
    "            if(unique_arr[i]==arr[j]){\n",
    "                sum += 1\n",
    "            }\n",
    "        }\n",
    "        count.push(sum)\n",
    "    }\n",
    "    for(let i=0; i<count.length; i++){\n",
    "        for(let j=0; j<count.length-1; j++){\n",
    "            if(count[j]<count[j+1]){\n",
    "                var temp = count[j]\n",
    "                count[j] = count[j+1]\n",
    "                count[j+1] = temp\n",
    "\n",
    "                var temp1 = unique_arr[j]\n",
    "                unique_arr[j] = unique_arr[j+1]\n",
    "                unique_arr[j+1] = temp1\n",
    "            }\n",
    "        }\n",
    "    }\n",
    "    if(count[0]==1){return -1}\n",
    "    return unique_arr[0]\n",
    "}"
   ]
  },
  {
   "cell_type": "code",
   "execution_count": 82,
   "metadata": {},
   "outputs": [],
   "source": [
    "var arr = [10, 4, 5, 2, 4]"
   ]
  },
  {
   "cell_type": "code",
   "execution_count": 72,
   "metadata": {},
   "outputs": [],
   "source": [
    "function find_unique(arr){\n",
    "    var result = []\n",
    "    for(let i=0; i<arr.length; i++){\n",
    "        var state = true\n",
    "        for(let j=0; j<result.length; j++){\n",
    "            if(arr[i]==result[j]){\n",
    "                state = false\n",
    "                break\n",
    "            }\n",
    "        }\n",
    "        if(state==true){\n",
    "            result.push(arr[i])\n",
    "        }\n",
    "    }\n",
    "    return result\n",
    "}"
   ]
  },
  {
   "cell_type": "code",
   "execution_count": 83,
   "metadata": {},
   "outputs": [],
   "source": [
    "var unique_arr = find_unique(arr)"
   ]
  },
  {
   "cell_type": "code",
   "execution_count": 84,
   "metadata": {},
   "outputs": [],
   "source": [
    "var count = []"
   ]
  },
  {
   "cell_type": "code",
   "execution_count": 85,
   "metadata": {},
   "outputs": [
    {
     "data": {
      "text/plain": [
       "4"
      ]
     },
     "execution_count": 85,
     "metadata": {},
     "output_type": "execute_result"
    }
   ],
   "source": [
    "for(let i=0; i<unique_arr.length; i++){\n",
    "    var sum = 0\n",
    "    for(let j=0; j<arr.length; j++){\n",
    "        if(unique_arr[i]==arr[j]){\n",
    "            sum += 1\n",
    "        }\n",
    "    }\n",
    "    count.push(sum)\n",
    "}"
   ]
  },
  {
   "cell_type": "code",
   "execution_count": 86,
   "metadata": {},
   "outputs": [
    {
     "data": {
      "text/plain": [
       "[ 1, 2, 1, 1 ]"
      ]
     },
     "execution_count": 86,
     "metadata": {},
     "output_type": "execute_result"
    }
   ],
   "source": [
    "count"
   ]
  },
  {
   "cell_type": "code",
   "execution_count": 87,
   "metadata": {},
   "outputs": [],
   "source": [
    "for(let i=0; i<count.length; i++){\n",
    "    for(let j=0; j<count.length-1; j++){\n",
    "        if(count[j]<count[j+1]){\n",
    "            var temp = count[j]\n",
    "            count[j] = count[j+1]\n",
    "            count[j+1] = temp\n",
    "            \n",
    "            var temp1 = unique_arr[j]\n",
    "            unique_arr[j] = unique_arr[j+1]\n",
    "            unique_arr[j+1] = temp1\n",
    "        }\n",
    "    }\n",
    "}"
   ]
  },
  {
   "cell_type": "code",
   "execution_count": 88,
   "metadata": {},
   "outputs": [
    {
     "data": {
      "text/plain": [
       "[ 2, 1, 1, 1 ]"
      ]
     },
     "execution_count": 88,
     "metadata": {},
     "output_type": "execute_result"
    }
   ],
   "source": [
    "count"
   ]
  },
  {
   "cell_type": "code",
   "execution_count": 89,
   "metadata": {},
   "outputs": [
    {
     "data": {
      "text/plain": [
       "[ 4, 10, 5, 2 ]"
      ]
     },
     "execution_count": 89,
     "metadata": {},
     "output_type": "execute_result"
    }
   ],
   "source": [
    "unique_arr"
   ]
  },
  {
   "cell_type": "code",
   "execution_count": 90,
   "metadata": {},
   "outputs": [
    {
     "data": {
      "text/plain": [
       "5"
      ]
     },
     "execution_count": 90,
     "metadata": {},
     "output_type": "execute_result"
    }
   ],
   "source": [
    "var sum = 0\n",
    "    for(let i=0; i<count.length; i++){\n",
    "        sum += count[i]\n",
    "    }"
   ]
  },
  {
   "cell_type": "code",
   "execution_count": 93,
   "metadata": {},
   "outputs": [
    {
     "data": {
      "text/plain": [
       "4"
      ]
     },
     "execution_count": 93,
     "metadata": {},
     "output_type": "execute_result"
    }
   ],
   "source": [
    "sum-1"
   ]
  },
  {
   "cell_type": "code",
   "execution_count": 92,
   "metadata": {},
   "outputs": [
    {
     "data": {
      "text/plain": [
       "4"
      ]
     },
     "execution_count": 92,
     "metadata": {},
     "output_type": "execute_result"
    }
   ],
   "source": [
    "count.length"
   ]
  },
  {
   "cell_type": "code",
   "execution_count": 111,
   "metadata": {},
   "outputs": [
    {
     "name": "stdout",
     "output_type": "stream",
     "text": [
      "4\n",
      "5\n",
      "-1\n",
      "3\n",
      "-1\n",
      "-1\n"
     ]
    }
   ],
   "source": [
    "// TEST CASES\n",
    "console.log(cariModus([10, 4, 5, 2, 4])); // 4\n",
    "console.log(cariModus([5, 10, 10, 6, 5])); // 5\n",
    "console.log(cariModus([10, 3, 1, 2, 5])); // -1\n",
    "console.log(cariModus([1, 2, 3, 3, 4, 5])); // 3\n",
    "console.log(cariModus([7, 7, 7, 7, 7])); // -1"
   ]
  },
  {
   "cell_type": "code",
   "execution_count": 103,
   "metadata": {},
   "outputs": [
    {
     "data": {
      "text/plain": [
       "1"
      ]
     },
     "execution_count": 103,
     "metadata": {},
     "output_type": "execute_result"
    }
   ],
   "source": [
    "[3].length"
   ]
  },
  {
   "cell_type": "markdown",
   "metadata": {},
   "source": [
    "____________________"
   ]
  },
  {
   "cell_type": "markdown",
   "metadata": {},
   "source": [
    "# Exercise-5"
   ]
  },
  {
   "cell_type": "code",
   "execution_count": 132,
   "metadata": {},
   "outputs": [],
   "source": [
    "// // TEST CASES\n",
    "// console.log(ubahHuruf('wow')); // xpx\n",
    "// console.log(ubahHuruf('developer')); // efwfmpqfs\n",
    "// console.log(ubahHuruf('javascript')); // kbwbtdsjqu\n",
    "// console.log(ubahHuruf('keren')); // lfsfo\n",
    "// console.log(ubahHuruf('semangat')); // tfnbohbu"
   ]
  },
  {
   "cell_type": "code",
   "execution_count": 160,
   "metadata": {},
   "outputs": [],
   "source": [
    "function split(str, divider){\n",
    "    var temp = ''\n",
    "    var result = []\n",
    "    for(let i=0; i<str.length; i++){\n",
    "        if(str[i]==divider){\n",
    "            result.push(temp)\n",
    "            temp = ''\n",
    "        }else{\n",
    "            temp += str[i]\n",
    "        }\n",
    "    }\n",
    "    result.push(temp)\n",
    "    return result\n",
    "}\n",
    "\n",
    "function ubahHuruf(kata) {\n",
    "    var char='a b c d e f g h i j k l m n o p q r s t u v w x y z a'\n",
    "    var char_arr = split(char, ' ')\n",
    "    var result = ''\n",
    "    for(let i=0; i<kata.length; i++){\n",
    "        result += char_arr[char_arr.indexOf(kata[i])+1]\n",
    "    }\n",
    "    return result\n",
    "}"
   ]
  },
  {
   "cell_type": "code",
   "execution_count": 116,
   "metadata": {},
   "outputs": [],
   "source": [
    "var chr = String.fromCharCode(97)"
   ]
  },
  {
   "cell_type": "code",
   "execution_count": 133,
   "metadata": {},
   "outputs": [],
   "source": [
    "var kata = 'developer'"
   ]
  },
  {
   "cell_type": "code",
   "execution_count": 117,
   "metadata": {},
   "outputs": [
    {
     "data": {
      "text/plain": [
       "'a'"
      ]
     },
     "execution_count": 117,
     "metadata": {},
     "output_type": "execute_result"
    }
   ],
   "source": [
    "chr"
   ]
  },
  {
   "cell_type": "code",
   "execution_count": 159,
   "metadata": {},
   "outputs": [],
   "source": [
    "var char='a b c d e f g h i j k l m n o p q r s t u v w x y z a'"
   ]
  },
  {
   "cell_type": "code",
   "execution_count": 152,
   "metadata": {},
   "outputs": [],
   "source": [
    "function split(str, divider){\n",
    "    var temp = ''\n",
    "    var result = []\n",
    "    for(let i=0; i<str.length; i++){\n",
    "        if(str[i]==divider){\n",
    "            result.push(temp)\n",
    "            temp = ''\n",
    "        }else{\n",
    "            temp += str[i]\n",
    "        }\n",
    "    }\n",
    "    result.push(temp)\n",
    "    return result\n",
    "}"
   ]
  },
  {
   "cell_type": "code",
   "execution_count": 153,
   "metadata": {},
   "outputs": [],
   "source": [
    "var char_arr = split(char, ' ')"
   ]
  },
  {
   "cell_type": "code",
   "execution_count": 155,
   "metadata": {},
   "outputs": [
    {
     "data": {
      "text/plain": [
       "0"
      ]
     },
     "execution_count": 155,
     "metadata": {},
     "output_type": "execute_result"
    }
   ],
   "source": [
    "char_arr.indexOf('a')"
   ]
  },
  {
   "cell_type": "code",
   "execution_count": 148,
   "metadata": {},
   "outputs": [
    {
     "data": {
      "text/plain": [
       "'efwfmpqfs'"
      ]
     },
     "execution_count": 148,
     "metadata": {},
     "output_type": "execute_result"
    }
   ],
   "source": [
    "var result = ''\n",
    "for(let i=0; i<kata.length; i++){\n",
    "    result += char_arr[char_arr.indexOf(kata[i])+1]\n",
    "}"
   ]
  },
  {
   "cell_type": "code",
   "execution_count": 135,
   "metadata": {},
   "outputs": [
    {
     "data": {
      "text/plain": [
       "'aaaaaaaaa'"
      ]
     },
     "execution_count": 135,
     "metadata": {},
     "output_type": "execute_result"
    }
   ],
   "source": [
    "result"
   ]
  },
  {
   "cell_type": "code",
   "execution_count": 136,
   "metadata": {},
   "outputs": [
    {
     "data": {
      "text/plain": [
       "0"
      ]
     },
     "execution_count": 136,
     "metadata": {},
     "output_type": "execute_result"
    }
   ],
   "source": [
    "i=0"
   ]
  },
  {
   "cell_type": "code",
   "execution_count": 139,
   "metadata": {},
   "outputs": [
    {
     "data": {
      "text/plain": [
       "-1"
      ]
     },
     "execution_count": 139,
     "metadata": {},
     "output_type": "execute_result"
    }
   ],
   "source": [
    "char_arr.indexOf('d')"
   ]
  },
  {
   "cell_type": "code",
   "execution_count": 138,
   "metadata": {},
   "outputs": [
    {
     "data": {
      "text/plain": [
       "'d'"
      ]
     },
     "execution_count": 138,
     "metadata": {},
     "output_type": "execute_result"
    }
   ],
   "source": [
    "kata[i]"
   ]
  },
  {
   "cell_type": "code",
   "execution_count": 161,
   "metadata": {},
   "outputs": [
    {
     "name": "stdout",
     "output_type": "stream",
     "text": [
      "xpx\n",
      "efwfmpqfs\n",
      "kbwbtdsjqu\n",
      "lfsfo\n",
      "tfnbohbu\n"
     ]
    }
   ],
   "source": [
    "// TEST CASES\n",
    "console.log(ubahHuruf('wow')); // xpx\n",
    "console.log(ubahHuruf('developer')); // efwfmpqfs\n",
    "console.log(ubahHuruf('javascript')); // kbwbtdsjqu\n",
    "console.log(ubahHuruf('keren')); // lfsfo\n",
    "console.log(ubahHuruf('semangat')); // tfnbohbu"
   ]
  },
  {
   "cell_type": "code",
   "execution_count": null,
   "metadata": {},
   "outputs": [],
   "source": []
  }
 ],
 "metadata": {
  "kernelspec": {
   "display_name": "Javascript (Node.js)",
   "language": "javascript",
   "name": "javascript"
  },
  "language_info": {
   "file_extension": ".js",
   "mimetype": "application/javascript",
   "name": "javascript",
   "version": "8.10.0"
  }
 },
 "nbformat": 4,
 "nbformat_minor": 2
}
