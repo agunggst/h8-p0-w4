{
 "cells": [
  {
   "cell_type": "markdown",
   "metadata": {},
   "source": [
    "# Exercise-13"
   ]
  },
  {
   "cell_type": "code",
   "execution_count": 16,
   "metadata": {},
   "outputs": [],
   "source": [
    "// //TEST CASE\n",
    "// console.log(deepSum([\n",
    "//   [\n",
    "//     [4, 5, 6],\n",
    "//     [9, 1, 2, 10],\n",
    "//     [9, 4, 3]\n",
    "//   ],\n",
    "//   [\n",
    "//     [4, 14, 31],\n",
    "//     [9, 10, 18, 12, 20],\n",
    "//     [1, 4, 90]\n",
    "//   ],\n",
    "//   [\n",
    "//     [2, 5, 10],\n",
    "//     [3, 4, 5],\n",
    "//     [2, 4, 5, 10]\n",
    "//   ]\n",
    "// ])); // 316\n",
    "\n",
    "// console.log(deepSum([\n",
    "//   [\n",
    "//     [20, 10],\n",
    "//     [15],\n",
    "//     [1, 1]\n",
    "//   ],\n",
    "//   [\n",
    "//     [1, 2, 3, 4, 5, 6, 7, 8, 9, 10, 11],\n",
    "//     [2],\n",
    "//     [9, 11]\n",
    "//   ],\n",
    "//   [\n",
    "//     [3, 5, 1],\n",
    "//     [1, 5, 3],\n",
    "//     [1]\n",
    "//   ],\n",
    "//   [\n",
    "//     [2]\n",
    "//   ]\n",
    "// ])); // 156\n",
    "\n",
    "// console.log(deepSum([])); // No number"
   ]
  },
  {
   "cell_type": "code",
   "execution_count": 14,
   "metadata": {},
   "outputs": [],
   "source": [
    "function deepSum (arr) {\n",
    "    if(arr.length==0){return 'No number'}\n",
    "    var sum = 0\n",
    "    for(let i=0; i<arr.length; i++){\n",
    "        for(let j=0; j<arr[i].length; j++){\n",
    "            for(let k=0; k<arr[i][j].length; k++){\n",
    "                sum += arr[i][j][k]\n",
    "            }\n",
    "        }\n",
    "    }\n",
    "    return sum\n",
    "}"
   ]
  },
  {
   "cell_type": "code",
   "execution_count": 3,
   "metadata": {},
   "outputs": [],
   "source": [
    "var arr = [\n",
    "  [\n",
    "    [4, 5, 6],\n",
    "    [9, 1, 2, 10],\n",
    "    [9, 4, 3]\n",
    "  ],\n",
    "  [\n",
    "    [4, 14, 31],\n",
    "    [9, 10, 18, 12, 20],\n",
    "    [1, 4, 90]\n",
    "  ],\n",
    "  [\n",
    "    [2, 5, 10],\n",
    "    [3, 4, 5],\n",
    "    [2, 4, 5, 10]\n",
    "  ]\n",
    "]"
   ]
  },
  {
   "cell_type": "code",
   "execution_count": 9,
   "metadata": {},
   "outputs": [
    {
     "data": {
      "text/plain": [
       "3"
      ]
     },
     "execution_count": 9,
     "metadata": {},
     "output_type": "execute_result"
    }
   ],
   "source": [
    "arr.length"
   ]
  },
  {
   "cell_type": "code",
   "execution_count": 10,
   "metadata": {},
   "outputs": [
    {
     "data": {
      "text/plain": [
       "316"
      ]
     },
     "execution_count": 10,
     "metadata": {},
     "output_type": "execute_result"
    }
   ],
   "source": [
    "var sum = 0\n",
    "for(let i=0; i<arr.length; i++){\n",
    "    for(let j=0; j<arr[i].length; j++){\n",
    "        for(let k=0; k<arr[i][j].length; k++){\n",
    "            sum += arr[i][j][k]\n",
    "        }\n",
    "    }\n",
    "}"
   ]
  },
  {
   "cell_type": "code",
   "execution_count": 11,
   "metadata": {},
   "outputs": [
    {
     "data": {
      "text/plain": [
       "316"
      ]
     },
     "execution_count": 11,
     "metadata": {},
     "output_type": "execute_result"
    }
   ],
   "source": [
    "sum"
   ]
  },
  {
   "cell_type": "code",
   "execution_count": 15,
   "metadata": {},
   "outputs": [
    {
     "name": "stdout",
     "output_type": "stream",
     "text": [
      "316\n",
      "156\n",
      "No number\n"
     ]
    }
   ],
   "source": [
    "//TEST CASE\n",
    "console.log(deepSum([\n",
    "  [\n",
    "    [4, 5, 6],\n",
    "    [9, 1, 2, 10],\n",
    "    [9, 4, 3]\n",
    "  ],\n",
    "  [\n",
    "    [4, 14, 31],\n",
    "    [9, 10, 18, 12, 20],\n",
    "    [1, 4, 90]\n",
    "  ],\n",
    "  [\n",
    "    [2, 5, 10],\n",
    "    [3, 4, 5],\n",
    "    [2, 4, 5, 10]\n",
    "  ]\n",
    "])); // 316\n",
    "\n",
    "console.log(deepSum([\n",
    "  [\n",
    "    [20, 10],\n",
    "    [15],\n",
    "    [1, 1]\n",
    "  ],\n",
    "  [\n",
    "    [1, 2, 3, 4, 5, 6, 7, 8, 9, 10, 11],\n",
    "    [2],\n",
    "    [9, 11]\n",
    "  ],\n",
    "  [\n",
    "    [3, 5, 1],\n",
    "    [1, 5, 3],\n",
    "    [1]\n",
    "  ],\n",
    "  [\n",
    "    [2]\n",
    "  ]\n",
    "])); // 156\n",
    "\n",
    "console.log(deepSum([])); // No number"
   ]
  },
  {
   "cell_type": "markdown",
   "metadata": {},
   "source": [
    "_____________"
   ]
  },
  {
   "cell_type": "markdown",
   "metadata": {},
   "source": [
    "# Exercise-14"
   ]
  },
  {
   "cell_type": "code",
   "execution_count": 17,
   "metadata": {},
   "outputs": [],
   "source": [
    "// //TEST CASE\n",
    "// console.log(naikAngkot([['Dimitri', 'B', 'F'], ['Icha', 'A', 'B']]));\n",
    "// // [ { penumpang: 'Dimitri', naikDari: 'B', tujuan: 'F', bayar: 8000 },\n",
    "// //   { penumpang: 'Icha', naikDari: 'A', tujuan: 'B', bayar: 2000 } ]\n",
    "\n",
    "// console.log(naikAngkot([])); //[]"
   ]
  },
  {
   "cell_type": "code",
   "execution_count": 33,
   "metadata": {},
   "outputs": [],
   "source": [
    "function abs(num){\n",
    "    if(num<0){return num*-1}\n",
    "    return num\n",
    "}\n",
    "\n",
    "function naikAngkot(arrPenumpang) {\n",
    "    var rute = ['A', 'B', 'C', 'D', 'E', 'F'];\n",
    "    var resultobj_arr = []\n",
    "    for(let i=0; i<arrPenumpang.length; i++){\n",
    "        var obj_temp = {}\n",
    "        obj_temp['penumpang'] = arrPenumpang[i][0]\n",
    "        obj_temp['naikDari'] = arrPenumpang[i][1]\n",
    "        obj_temp['tujuan'] = arrPenumpang[i][2]\n",
    "        resultobj_arr.push(obj_temp)\n",
    "    }\n",
    "    for(let i=0; i<resultobj_arr.length; i++){\n",
    "        for(let j=0; j<rute.length; j++){\n",
    "            if(resultobj_arr[i].naikDari==rute[j]){\n",
    "                var naik_idx = j\n",
    "            }\n",
    "            if(resultobj_arr[i].tujuan==rute[j]){\n",
    "                var tujuan_idx = j\n",
    "            }\n",
    "        }\n",
    "        var bayar = abs(tujuan_idx-naik_idx)*2000\n",
    "        resultobj_arr[i]['bayar'] = bayar\n",
    "    }\n",
    "    return resultobj_arr\n",
    "}"
   ]
  },
  {
   "cell_type": "code",
   "execution_count": 24,
   "metadata": {},
   "outputs": [],
   "source": [
    "var arrPenumpang = [['Dimitri', 'B', 'F'], ['Icha', 'A', 'B']]\n",
    "var rute = ['A', 'B', 'C', 'D', 'E', 'F']"
   ]
  },
  {
   "cell_type": "code",
   "execution_count": 25,
   "metadata": {},
   "outputs": [
    {
     "data": {
      "text/plain": [
       "2"
      ]
     },
     "execution_count": 25,
     "metadata": {},
     "output_type": "execute_result"
    }
   ],
   "source": [
    "var resultobj_arr = []\n",
    "for(let i=0; i<arrPenumpang.length; i++){\n",
    "    var obj_temp = {}\n",
    "    obj_temp['penumpang'] = arrPenumpang[i][0]\n",
    "    obj_temp['naikDari'] = arrPenumpang[i][1]\n",
    "    obj_temp['tujuan'] = arrPenumpang[i][2]\n",
    "    resultobj_arr.push(obj_temp)\n",
    "}"
   ]
  },
  {
   "cell_type": "code",
   "execution_count": 28,
   "metadata": {},
   "outputs": [
    {
     "data": {
      "text/plain": [
       "[ { penumpang: 'Dimitri', naikDari: 'B', tujuan: 'F' },\n",
       "  { penumpang: 'Icha', naikDari: 'A', tujuan: 'B' } ]"
      ]
     },
     "execution_count": 28,
     "metadata": {},
     "output_type": "execute_result"
    }
   ],
   "source": [
    "resultobj_arr"
   ]
  },
  {
   "cell_type": "code",
   "execution_count": 29,
   "metadata": {},
   "outputs": [
    {
     "data": {
      "text/plain": [
       "2000"
      ]
     },
     "execution_count": 29,
     "metadata": {},
     "output_type": "execute_result"
    }
   ],
   "source": [
    "for(let i=0; i<resultobj_arr.length; i++){\n",
    "    for(let j=0; j<rute.length; j++){\n",
    "        if(resultobj_arr[i].naikDari==rute[j]){\n",
    "            var naik_idx = j\n",
    "        }\n",
    "        if(resultobj_arr[i].tujuan==rute[j]){\n",
    "            var tujuan_idx = j\n",
    "        }\n",
    "    }\n",
    "    var bayar = abs(tujuan_idx-naik_idx)*2000\n",
    "    resultobj_arr[i]['bayar'] = bayar\n",
    "}"
   ]
  },
  {
   "cell_type": "code",
   "execution_count": 30,
   "metadata": {},
   "outputs": [
    {
     "data": {
      "text/plain": [
       "[ { penumpang: 'Dimitri', naikDari: 'B', tujuan: 'F', bayar: 8000 },\n",
       "  { penumpang: 'Icha', naikDari: 'A', tujuan: 'B', bayar: 2000 } ]"
      ]
     },
     "execution_count": 30,
     "metadata": {},
     "output_type": "execute_result"
    }
   ],
   "source": [
    "resultobj_arr"
   ]
  },
  {
   "cell_type": "code",
   "execution_count": 34,
   "metadata": {},
   "outputs": [
    {
     "name": "stdout",
     "output_type": "stream",
     "text": [
      "[ { penumpang: 'Dimitri', naikDari: 'B', tujuan: 'F', bayar: 8000 },\n",
      "  { penumpang: 'Icha', naikDari: 'A', tujuan: 'B', bayar: 2000 } ]\n",
      "[]\n"
     ]
    }
   ],
   "source": [
    "//TEST CASE\n",
    "console.log(naikAngkot([['Dimitri', 'B', 'F'], ['Icha', 'A', 'B']]));\n",
    "// [ { penumpang: 'Dimitri', naikDari: 'B', tujuan: 'F', bayar: 8000 },\n",
    "//   { penumpang: 'Icha', naikDari: 'A', tujuan: 'B', bayar: 2000 } ]\n",
    "\n",
    "console.log(naikAngkot([])); //[]"
   ]
  },
  {
   "cell_type": "markdown",
   "metadata": {},
   "source": [
    "______________"
   ]
  },
  {
   "cell_type": "markdown",
   "metadata": {},
   "source": [
    "# Exercise-15"
   ]
  },
  {
   "cell_type": "code",
   "execution_count": 35,
   "metadata": {},
   "outputs": [],
   "source": [
    "// // TEST CASE\n",
    "// console.log(highestScore([\n",
    "//   {\n",
    "//     name: 'Dimitri',\n",
    "//     score: 90,\n",
    "//     class: 'foxes'\n",
    "//   },\n",
    "//   {\n",
    "//     name: 'Alexei',\n",
    "//     score: 85,\n",
    "//     class: 'wolves'\n",
    "//   },\n",
    "//   {\n",
    "//     name: 'Sergei',\n",
    "//     score: 74,\n",
    "//     class: 'foxes'\n",
    "//   },\n",
    "//   {\n",
    "//     name: 'Anastasia',\n",
    "//     score: 78,\n",
    "//     class: 'wolves'\n",
    "//   }\n",
    "// ]));\n",
    "\n",
    "// // {\n",
    "// //   foxes: { name: 'Dimitri', score: 90 },\n",
    "// //   wolves: { name: 'Alexei', score: 85 }\n",
    "// // }\n",
    "\n",
    "\n",
    "// console.log(highestScore([\n",
    "//   {\n",
    "//     name: 'Alexander',\n",
    "//     score: 100,\n",
    "//     class: 'foxes'\n",
    "//   },\n",
    "//   {\n",
    "//     name: 'Alisa',\n",
    "//     score: 76,\n",
    "//     class: 'wolves'\n",
    "//   },\n",
    "//   {\n",
    "//     name: 'Vladimir',\n",
    "//     score: 92,\n",
    "//     class: 'foxes'\n",
    "//   },\n",
    "//   {\n",
    "//     name: 'Albert',\n",
    "//     score: 71,\n",
    "//     class: 'wolves'\n",
    "//   },\n",
    "//   {\n",
    "//     name: 'Viktor',\n",
    "//     score: 80,\n",
    "//     class: 'tigers'\n",
    "//   }\n",
    "// ]));\n",
    "\n",
    "// // {\n",
    "// //   foxes: { name: 'Alexander', score: 100 },\n",
    "// //   wolves: { name: 'Alisa', score: 76 },\n",
    "// //   tigers: { name: 'Viktor', score: 80 }\n",
    "// // }\n",
    "\n",
    "\n",
    "// console.log(highestScore([])); //{}"
   ]
  },
  {
   "cell_type": "code",
   "execution_count": 51,
   "metadata": {},
   "outputs": [],
   "source": [
    "function highestScore (students) {\n",
    "    var result = {}\n",
    "    for(let i=0; i<students.length; i++){\n",
    "        for(let key in students[i]){\n",
    "            if(key=='class'){\n",
    "                result[students[i][key]] = {name:'', score:0}\n",
    "            }\n",
    "        }\n",
    "    }\n",
    "    for(let i=0; i<students.length; i++){\n",
    "        for(let key in result){\n",
    "            if(key==students[i].class){\n",
    "                if(result[key].score<students[i].score){\n",
    "                    result[key].name = students[i].name\n",
    "                    result[key].score = students[i].score\n",
    "                }\n",
    "            }\n",
    "        }\n",
    "    }\n",
    "    return result\n",
    "}"
   ]
  },
  {
   "cell_type": "code",
   "execution_count": 36,
   "metadata": {},
   "outputs": [],
   "source": [
    "var students = [\n",
    "  {\n",
    "    name: 'Alexander',\n",
    "    score: 100,\n",
    "    class: 'foxes'\n",
    "  },\n",
    "  {\n",
    "    name: 'Alisa',\n",
    "    score: 76,\n",
    "    class: 'wolves'\n",
    "  },\n",
    "  {\n",
    "    name: 'Vladimir',\n",
    "    score: 92,\n",
    "    class: 'foxes'\n",
    "  },\n",
    "  {\n",
    "    name: 'Albert',\n",
    "    score: 71,\n",
    "    class: 'wolves'\n",
    "  },\n",
    "  {\n",
    "    name: 'Viktor',\n",
    "    score: 80,\n",
    "    class: 'tigers'\n",
    "  }\n",
    "]"
   ]
  },
  {
   "cell_type": "code",
   "execution_count": 37,
   "metadata": {},
   "outputs": [
    {
     "data": {
      "text/plain": [
       "[ { name: 'Alexander', score: 100, class: 'foxes' },\n",
       "  { name: 'Alisa', score: 76, class: 'wolves' },\n",
       "  { name: 'Vladimir', score: 92, class: 'foxes' },\n",
       "  { name: 'Albert', score: 71, class: 'wolves' },\n",
       "  { name: 'Viktor', score: 80, class: 'tigers' } ]"
      ]
     },
     "execution_count": 37,
     "metadata": {},
     "output_type": "execute_result"
    }
   ],
   "source": [
    "students"
   ]
  },
  {
   "cell_type": "code",
   "execution_count": 46,
   "metadata": {},
   "outputs": [
    {
     "data": {
      "text/plain": [
       "{ name: '', score: 0 }"
      ]
     },
     "execution_count": 46,
     "metadata": {},
     "output_type": "execute_result"
    }
   ],
   "source": [
    "var result = {}\n",
    "for(let i=0; i<students.length; i++){\n",
    "    for(let key in students[i]){\n",
    "        if(key=='class'){\n",
    "            result[students[i][key]] = {name:'', score:0}\n",
    "        }\n",
    "    }\n",
    "}"
   ]
  },
  {
   "cell_type": "code",
   "execution_count": 47,
   "metadata": {},
   "outputs": [
    {
     "data": {
      "text/plain": [
       "{ foxes: { name: '', score: 0 },\n",
       "  wolves: { name: '', score: 0 },\n",
       "  tigers: { name: '', score: 0 } }"
      ]
     },
     "execution_count": 47,
     "metadata": {},
     "output_type": "execute_result"
    }
   ],
   "source": [
    "result"
   ]
  },
  {
   "cell_type": "code",
   "execution_count": 49,
   "metadata": {},
   "outputs": [
    {
     "data": {
      "text/plain": [
       "80"
      ]
     },
     "execution_count": 49,
     "metadata": {},
     "output_type": "execute_result"
    }
   ],
   "source": [
    "for(let i=0; i<students.length; i++){\n",
    "    for(let key in result){\n",
    "        if(key==students[i].class){\n",
    "            if(result[key].score<students[i].score){\n",
    "                result[key].name = students[i].name\n",
    "                result[key].score = students[i].score\n",
    "            }\n",
    "        }\n",
    "    }\n",
    "}"
   ]
  },
  {
   "cell_type": "code",
   "execution_count": 50,
   "metadata": {},
   "outputs": [
    {
     "data": {
      "text/plain": [
       "{ foxes: { name: 'Alexander', score: 100 },\n",
       "  wolves: { name: 'Alisa', score: 76 },\n",
       "  tigers: { name: 'Viktor', score: 80 } }"
      ]
     },
     "execution_count": 50,
     "metadata": {},
     "output_type": "execute_result"
    }
   ],
   "source": [
    "result"
   ]
  },
  {
   "cell_type": "code",
   "execution_count": 52,
   "metadata": {},
   "outputs": [
    {
     "name": "stdout",
     "output_type": "stream",
     "text": [
      "{ foxes: { name: 'Dimitri', score: 90 },\n",
      "  wolves: { name: 'Alexei', score: 85 } }\n"
     ]
    }
   ],
   "source": [
    "console.log(highestScore([\n",
    "  {\n",
    "    name: 'Dimitri',\n",
    "    score: 90,\n",
    "    class: 'foxes'\n",
    "  },\n",
    "  {\n",
    "    name: 'Alexei',\n",
    "    score: 85,\n",
    "    class: 'wolves'\n",
    "  },\n",
    "  {\n",
    "    name: 'Sergei',\n",
    "    score: 74,\n",
    "    class: 'foxes'\n",
    "  },\n",
    "  {\n",
    "    name: 'Anastasia',\n",
    "    score: 78,\n",
    "    class: 'wolves'\n",
    "  }\n",
    "]));\n",
    "\n",
    "// {\n",
    "//   foxes: { name: 'Dimitri', score: 90 },\n",
    "//   wolves: { name: 'Alexei', score: 85 }\n",
    "// }"
   ]
  },
  {
   "cell_type": "code",
   "execution_count": 53,
   "metadata": {},
   "outputs": [
    {
     "name": "stdout",
     "output_type": "stream",
     "text": [
      "{ foxes: { name: 'Alexander', score: 100 },\n",
      "  wolves: { name: 'Alisa', score: 76 },\n",
      "  tigers: { name: 'Viktor', score: 80 } }\n"
     ]
    }
   ],
   "source": [
    "console.log(highestScore([\n",
    "  {\n",
    "    name: 'Alexander',\n",
    "    score: 100,\n",
    "    class: 'foxes'\n",
    "  },\n",
    "  {\n",
    "    name: 'Alisa',\n",
    "    score: 76,\n",
    "    class: 'wolves'\n",
    "  },\n",
    "  {\n",
    "    name: 'Vladimir',\n",
    "    score: 92,\n",
    "    class: 'foxes'\n",
    "  },\n",
    "  {\n",
    "    name: 'Albert',\n",
    "    score: 71,\n",
    "    class: 'wolves'\n",
    "  },\n",
    "  {\n",
    "    name: 'Viktor',\n",
    "    score: 80,\n",
    "    class: 'tigers'\n",
    "  }\n",
    "]));\n",
    "\n",
    "// {\n",
    "//   foxes: { name: 'Alexander', score: 100 },\n",
    "//   wolves: { name: 'Alisa', score: 76 },\n",
    "//   tigers: { name: 'Viktor', score: 80 }\n",
    "// }"
   ]
  },
  {
   "cell_type": "code",
   "execution_count": 54,
   "metadata": {},
   "outputs": [
    {
     "name": "stdout",
     "output_type": "stream",
     "text": [
      "{}\n"
     ]
    }
   ],
   "source": [
    "console.log(highestScore([])); //{}"
   ]
  },
  {
   "cell_type": "markdown",
   "metadata": {},
   "source": [
    "_______________"
   ]
  },
  {
   "cell_type": "markdown",
   "metadata": {},
   "source": [
    "# Exercise-16"
   ]
  },
  {
   "cell_type": "code",
   "execution_count": 55,
   "metadata": {},
   "outputs": [],
   "source": [
    "// TEST CASE\n",
    "// console.log(graduates([\n",
    "//   {\n",
    "//     name: 'Dimitri',\n",
    "//     score: 90,\n",
    "//     class: 'foxes'\n",
    "//   },\n",
    "//   {\n",
    "//     name: 'Alexei',\n",
    "//     score: 85,\n",
    "//     class: 'wolves'\n",
    "//   },\n",
    "//   {\n",
    "//     name: 'Sergei',\n",
    "//     score: 74,\n",
    "//     class: 'foxes'\n",
    "//   },\n",
    "//   {\n",
    "//     name: 'Anastasia',\n",
    "//     score: 78,\n",
    "//     class: 'wolves'\n",
    "//   }\n",
    "// ]));\n",
    "\n",
    "// // {\n",
    "// //   foxes: [\n",
    "// //     { name: 'Dimitri', score: 90 }\n",
    "// //   ],\n",
    "// //   wolves: [\n",
    "// //     { name: 'Alexei' , score: 85 },\n",
    "// //     { name: 'Anastasia', score: 78 }\n",
    "// //   ]\n",
    "// // }\n",
    "\n",
    "// console.log(graduates([\n",
    "//   {\n",
    "//     name: 'Alexander',\n",
    "//     score: 100,\n",
    "//     class: 'foxes'\n",
    "//   },\n",
    "//   {\n",
    "//     name: 'Alisa',\n",
    "//     score: 76,\n",
    "//     class: 'wolves'\n",
    "//   },\n",
    "//   {\n",
    "//     name: 'Vladimir',\n",
    "//     score: 92,\n",
    "//     class: 'foxes'\n",
    "//   },\n",
    "//   {\n",
    "//     name: 'Albert',\n",
    "//     score: 71,\n",
    "//     class: 'wolves'\n",
    "//   },\n",
    "//   {\n",
    "//     name: 'Viktor',\n",
    "//     score: 80,\n",
    "//     class: 'tigers'\n",
    "//   }\n",
    "// ]));\n",
    "\n",
    "// // {\n",
    "// //   foxes: [\n",
    "// //     { name: 'Alexander', score: 100 },\n",
    "// //     { name: 'Vladimir', score: 92 }\n",
    "// //   ],\n",
    "// //   wolves: [\n",
    "// //     { name: 'Alisa', score: 76 },\n",
    "// //   ],\n",
    "// //   tigers: [\n",
    "// //     { name: 'Viktor', score: 80 }\n",
    "// //   ]\n",
    "// // }\n",
    "\n",
    "\n",
    "// console.log(graduates([])); //{}"
   ]
  },
  {
   "cell_type": "code",
   "execution_count": 72,
   "metadata": {},
   "outputs": [],
   "source": [
    "function graduates (students) {\n",
    "    var result = {}\n",
    "    for(let i=0; i<students.length; i++){\n",
    "        for(let key in students[i]){\n",
    "            if(key=='class'){\n",
    "                result[students[i][key]] = []\n",
    "            }\n",
    "        }\n",
    "    }\n",
    "    for(let i=0; i<students.length; i++){\n",
    "        for(let key in result){\n",
    "            if(students[i].score>75 && key==students[i].class){\n",
    "                var temp = {name:students[i].name, score:students[i].score}\n",
    "                result[key].push(temp)\n",
    "            }\n",
    "        }\n",
    "    }\n",
    "    for(let key in result){\n",
    "        if(result[key].length==0){\n",
    "            delete result[key]\n",
    "        }\n",
    "    }\n",
    "    return result\n",
    "}"
   ]
  },
  {
   "cell_type": "code",
   "execution_count": 57,
   "metadata": {},
   "outputs": [],
   "source": [
    "var students = [\n",
    "  {\n",
    "    name: 'Alexander',\n",
    "    score: 100,\n",
    "    class: 'foxes'\n",
    "  },\n",
    "  {\n",
    "    name: 'Alisa',\n",
    "    score: 76,\n",
    "    class: 'wolves'\n",
    "  },\n",
    "  {\n",
    "    name: 'Vladimir',\n",
    "    score: 92,\n",
    "    class: 'foxes'\n",
    "  },\n",
    "  {\n",
    "    name: 'Albert',\n",
    "    score: 71,\n",
    "    class: 'wolves'\n",
    "  },\n",
    "  {\n",
    "    name: 'Viktor',\n",
    "    score: 80,\n",
    "    class: 'tigers'\n",
    "  }\n",
    "]"
   ]
  },
  {
   "cell_type": "code",
   "execution_count": 63,
   "metadata": {},
   "outputs": [
    {
     "data": {
      "text/plain": [
       "[ { name: 'Alexander', score: 100, class: 'foxes' },\n",
       "  { name: 'Alisa', score: 76, class: 'wolves' },\n",
       "  { name: 'Vladimir', score: 92, class: 'foxes' },\n",
       "  { name: 'Albert', score: 71, class: 'wolves' },\n",
       "  { name: 'Viktor', score: 80, class: 'tigers' } ]"
      ]
     },
     "execution_count": 63,
     "metadata": {},
     "output_type": "execute_result"
    }
   ],
   "source": [
    "students"
   ]
  },
  {
   "cell_type": "code",
   "execution_count": 64,
   "metadata": {},
   "outputs": [
    {
     "data": {
      "text/plain": [
       "[]"
      ]
     },
     "execution_count": 64,
     "metadata": {},
     "output_type": "execute_result"
    }
   ],
   "source": [
    "var result = {}\n",
    "for(let i=0; i<students.length; i++){\n",
    "    for(let key in students[i]){\n",
    "        if(key=='class'){\n",
    "            result[students[i][key]] = []\n",
    "        }\n",
    "    }\n",
    "}"
   ]
  },
  {
   "cell_type": "code",
   "execution_count": 65,
   "metadata": {},
   "outputs": [
    {
     "data": {
      "text/plain": [
       "{ foxes: [], wolves: [], tigers: [] }"
      ]
     },
     "execution_count": 65,
     "metadata": {},
     "output_type": "execute_result"
    }
   ],
   "source": [
    "result"
   ]
  },
  {
   "cell_type": "code",
   "execution_count": 66,
   "metadata": {},
   "outputs": [
    {
     "data": {
      "text/plain": [
       "1"
      ]
     },
     "execution_count": 66,
     "metadata": {},
     "output_type": "execute_result"
    }
   ],
   "source": [
    "for(let i=0; i<students.length; i++){\n",
    "    for(let key in result){\n",
    "        if(students[i].score>75 && key==students[i].class){\n",
    "            var temp = {name:students[i].name, score:students[i].score}\n",
    "            result[key].push(temp)\n",
    "        }\n",
    "    }\n",
    "}"
   ]
  },
  {
   "cell_type": "code",
   "execution_count": 68,
   "metadata": {},
   "outputs": [
    {
     "data": {
      "text/plain": [
       "[]"
      ]
     },
     "execution_count": 68,
     "metadata": {},
     "output_type": "execute_result"
    }
   ],
   "source": [
    "result['wew'] = []"
   ]
  },
  {
   "cell_type": "code",
   "execution_count": 71,
   "metadata": {},
   "outputs": [
    {
     "data": {
      "text/plain": [
       "{ foxes: \n",
       "   [ { name: 'Alexander', score: 100 },\n",
       "     { name: 'Vladimir', score: 92 } ],\n",
       "  wolves: [ { name: 'Alisa', score: 76 } ],\n",
       "  tigers: [ { name: 'Viktor', score: 80 } ] }"
      ]
     },
     "execution_count": 71,
     "metadata": {},
     "output_type": "execute_result"
    }
   ],
   "source": [
    "result"
   ]
  },
  {
   "cell_type": "code",
   "execution_count": 70,
   "metadata": {},
   "outputs": [
    {
     "data": {
      "text/plain": [
       "true"
      ]
     },
     "execution_count": 70,
     "metadata": {},
     "output_type": "execute_result"
    }
   ],
   "source": [
    "for(let key in result){\n",
    "    if(result[key].length==0){\n",
    "        delete result[key]\n",
    "    }\n",
    "}"
   ]
  },
  {
   "cell_type": "code",
   "execution_count": 73,
   "metadata": {},
   "outputs": [
    {
     "name": "stdout",
     "output_type": "stream",
     "text": [
      "{ foxes: [ { name: 'Dimitri', score: 90 } ],\n",
      "  wolves: \n",
      "   [ { name: 'Alexei', score: 85 },\n",
      "     { name: 'Anastasia', score: 78 } ] }\n"
     ]
    }
   ],
   "source": [
    "console.log(graduates([\n",
    "  {\n",
    "    name: 'Dimitri',\n",
    "    score: 90,\n",
    "    class: 'foxes'\n",
    "  },\n",
    "  {\n",
    "    name: 'Alexei',\n",
    "    score: 85,\n",
    "    class: 'wolves'\n",
    "  },\n",
    "  {\n",
    "    name: 'Sergei',\n",
    "    score: 74,\n",
    "    class: 'foxes'\n",
    "  },\n",
    "  {\n",
    "    name: 'Anastasia',\n",
    "    score: 78,\n",
    "    class: 'wolves'\n",
    "  }\n",
    "]));\n",
    "\n",
    "// {\n",
    "//   foxes: [\n",
    "//     { name: 'Dimitri', score: 90 }\n",
    "//   ],\n",
    "//   wolves: [\n",
    "//     { name: 'Alexei' , score: 85 },\n",
    "//     { name: 'Anastasia', score: 78 }\n",
    "//   ]\n",
    "// }"
   ]
  },
  {
   "cell_type": "code",
   "execution_count": 75,
   "metadata": {},
   "outputs": [
    {
     "name": "stdout",
     "output_type": "stream",
     "text": [
      "{ foxes: \n",
      "   [ { name: 'Alexander', score: 100 },\n",
      "     { name: 'Vladimir', score: 92 } ],\n",
      "  wolves: [ { name: 'Alisa', score: 76 } ],\n",
      "  tigers: [ { name: 'Viktor', score: 80 } ] }\n"
     ]
    }
   ],
   "source": [
    "console.log(graduates([\n",
    "  {\n",
    "    name: 'Alexander',\n",
    "    score: 100,\n",
    "    class: 'foxes'\n",
    "  },\n",
    "  {\n",
    "    name: 'Alisa',\n",
    "    score: 76,\n",
    "    class: 'wolves'\n",
    "  },\n",
    "  {\n",
    "    name: 'Vladimir',\n",
    "    score: 92,\n",
    "    class: 'foxes'\n",
    "  },\n",
    "  {\n",
    "    name: 'Albert',\n",
    "    score: 71,\n",
    "    class: 'wolves'\n",
    "  },\n",
    "  {\n",
    "    name: 'Viktor',\n",
    "    score: 80,\n",
    "    class: 'tigers'\n",
    "  }\n",
    "]));\n",
    "\n",
    "// {\n",
    "//   foxes: [\n",
    "//     { name: 'Alexander', score: 100 },\n",
    "//     { name: 'Vladimir', score: 92 }\n",
    "//   ],\n",
    "//   wolves: [\n",
    "//     { name: 'Alisa', score: 76 },\n",
    "//   ],\n",
    "//   tigers: [\n",
    "//     { name: 'Viktor', score: 80 }\n",
    "//   ]\n",
    "// }"
   ]
  },
  {
   "cell_type": "code",
   "execution_count": 76,
   "metadata": {},
   "outputs": [
    {
     "name": "stdout",
     "output_type": "stream",
     "text": [
      "{}\n"
     ]
    }
   ],
   "source": [
    "console.log(graduates([])); //{}"
   ]
  },
  {
   "cell_type": "code",
   "execution_count": null,
   "metadata": {},
   "outputs": [],
   "source": []
  }
 ],
 "metadata": {
  "kernelspec": {
   "display_name": "Javascript (Node.js)",
   "language": "javascript",
   "name": "javascript"
  },
  "language_info": {
   "file_extension": ".js",
   "mimetype": "application/javascript",
   "name": "javascript",
   "version": "8.10.0"
  }
 },
 "nbformat": 4,
 "nbformat_minor": 2
}
